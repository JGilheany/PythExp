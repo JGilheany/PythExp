{
 "cells": [
  {
   "cell_type": "code",
   "execution_count": 13,
   "id": "b0430b35",
   "metadata": {},
   "outputs": [
    {
     "name": "stdout",
     "output_type": "stream",
     "text": [
      "Please enter a filename: data_input.txt\n",
      "Please enter a trim size: 3ef\n",
      "Please enter a valid trim number!\n",
      "Script completed\n"
     ]
    },
    {
     "name": "stderr",
     "output_type": "stream",
     "text": [
      "Traceback (most recent call last):\n",
      "  File \"/home/josh/Documents/MA5114_ProgrammingforBio/parse_dna.py\", line 8, in <module>\n",
      "    print (sequence[int(parameters[2]):])\n",
      "ValueError: invalid literal for int() with base 10: '3ef'\n"
     ]
    }
   ],
   "source": [
    "#name: trim_sequences.py\n",
    "\n",
    "#author: your name here\n",
    "\n",
    "#date: 21/11/2022\n",
    "\n",
    "#description: script to run parse_dna.py using data_input.txt & cut-off value\n",
    "\n",
    "\n",
    "\n",
    "#import modules\n",
    "\n",
    "import os\n",
    "\n",
    "import subprocess\n",
    "\n",
    "\n",
    "\n",
    "#set up variables\n",
    "\n",
    "program = 'parse_dna.py'\n",
    "\n",
    "parameter1 = input(\"Please enter a filename: \")\n",
    "\n",
    "parameter2 = input(\"Please enter a trim size: \")\n",
    "\n",
    "try:\n",
    "    parameter2 = int(parameter2)\n",
    "\n",
    "except:\n",
    "    print(\"Please enter a valid trim number!\")\n",
    "\n",
    "\n",
    "if os.path.exists(parameter1):\n",
    "\n",
    "      command = 'python' + ' ' + program + ' ' + parameter1 + ' ' + str(parameter2)\n",
    "\n",
    "      subprocess.call(command, shell= True)\n",
    "\n",
    "      print ('Script completed')\n",
    "\n",
    "else:\n",
    "\n",
    "   print ('File', parameter1,'missing.')"
   ]
  }
 ],
 "metadata": {
  "kernelspec": {
   "display_name": "Python 3 (ipykernel)",
   "language": "python",
   "name": "python3"
  },
  "language_info": {
   "codemirror_mode": {
    "name": "ipython",
    "version": 3
   },
   "file_extension": ".py",
   "mimetype": "text/x-python",
   "name": "python",
   "nbconvert_exporter": "python",
   "pygments_lexer": "ipython3",
   "version": "3.9.12"
  }
 },
 "nbformat": 4,
 "nbformat_minor": 5
}
