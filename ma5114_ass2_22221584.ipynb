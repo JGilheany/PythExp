{
 "cells": [
  {
   "cell_type": "markdown",
   "metadata": {},
   "source": [
    "### M.Sc. Biomedical Genomics / MA5114 / Autumn 2022\n",
    "\n",
    "#### Homework Assignment 2\n",
    "\n",
    "\n",
    "Sumbit your work via Blackboard as a copy of this `.ipynb` file with your answers in the following format file name: `ma5114_assX_id.ipynb` (replace X with homework number and id with your ID number). For example, the submission of assignment 2 for a student with ID number 201811451 is `ma5114_ass2_201811451.ipynb`\n",
    "\n",
    "Each question carries equal marks. This assignment will make up 10% of the total marks for MA5114.\n"
   ]
  },
  {
   "cell_type": "markdown",
   "metadata": {},
   "source": [
    "#### 1) Bacteria growth\n",
    "\n",
    "The bacteria _F. nucleatum_ replicates every one hour, in a 100 ml tube, reaching the stationary phase when there are 1,000,000 or more bacteria in the tube, where they go into a steady-state population equilibrium.  \n",
    "  \n",
    "**a)** Write a program that will calculate the number of bacteria after one hour, two hours, etc, until stationarity is reached. The program will receive the starter size (number of bacteria to begin with), and start calculating from there. At each time point, the following message should be printed:  \n",
    "< time > hours: < no. of bacteria > bacteria"
   ]
  },
  {
   "cell_type": "code",
   "execution_count": 9,
   "metadata": {},
   "outputs": [
    {
     "name": "stdout",
     "output_type": "stream",
     "text": [
      "Hour:  0  No. Bacteria:  2000\n",
      "Hour:  1  No. Bacteria:  4000\n",
      "Hour:  2  No. Bacteria:  8000\n",
      "Hour:  3  No. Bacteria:  16000\n",
      "Hour:  4  No. Bacteria:  32000\n",
      "Hour:  5  No. Bacteria:  64000\n",
      "Hour:  6  No. Bacteria:  128000\n",
      "Hour:  7  No. Bacteria:  256000\n",
      "Hour:  8  No. Bacteria:  512000\n",
      "Bacteria reached stationarity\n"
     ]
    }
   ],
   "source": [
    "starter = 2000 # Replace with a value of your choice.\n",
    "bacteria = starter\n",
    "time = 0\n",
    "\n",
    "\n",
    "while bacteria < 1000000:\n",
    "    print(\"Hour: \",time,\" No. Bacteria: \",bacteria)\n",
    "    bacteria = bacteria*2\n",
    "    time += 1\n",
    "    \n",
    "print(\"Bacteria reached stationarity\")\n",
    "    \n",
    "    "
   ]
  },
  {
   "cell_type": "markdown",
   "metadata": {},
   "source": [
    "**b)** It turns out that the growth rate of _F. nucleatum_ is affected by temperature. It's replication time *r*, is a function of the temperature T, so that:  \n",
    "\n",
    "$r = \\frac{19 T (T - 70)}{2450} + 10$  \n",
    "\n",
    "However, when the temperature is below 5, or over 50, the bacteria don't grow at all.  \n",
    "\n",
    "Write a program that will receive the starter size __and__ the growth temperature, and will calculate the time to reach stationarity, printing the number of bacteria at each time point (like in part a). If bacteria can't grow, print an appropriate message (and don't do any calculation)."
   ]
  },
  {
   "cell_type": "code",
   "execution_count": 8,
   "metadata": {},
   "outputs": [
    {
     "name": "stdout",
     "output_type": "stream",
     "text": [
      "5.346938775510204\n",
      "Hour:  0  No. Bacteria:  75\n",
      "Hour:  5  No. Bacteria:  150\n",
      "Hour:  10  No. Bacteria:  300\n",
      "Hour:  16  No. Bacteria:  600\n",
      "Hour:  21  No. Bacteria:  1200\n",
      "Hour:  26  No. Bacteria:  2400\n",
      "Hour:  32  No. Bacteria:  4800\n",
      "Hour:  37  No. Bacteria:  9600\n",
      "Hour:  42  No. Bacteria:  19200\n",
      "Hour:  48  No. Bacteria:  38400\n",
      "Hour:  53  No. Bacteria:  76800\n",
      "Hour:  58  No. Bacteria:  153600\n",
      "Hour:  64  No. Bacteria:  307200\n",
      "Hour:  69  No. Bacteria:  614400\n",
      "Bacteria reached stationarity\n"
     ]
    }
   ],
   "source": [
    "starter = 75 # Replace with a value of your choice.\n",
    "temp = 10 # Replace with a value of your choice.\n",
    "\n",
    "\n",
    "# check temperature and calculate replication time\n",
    "rtime = (((19*temp)*(temp-70))/2450)+10\n",
    "print(rtime)\n",
    "time = 0\n",
    "bacteria = starter\n",
    "\n",
    "# calculate and growth\n",
    "if temp >=5 and temp <=50:\n",
    "    \n",
    "    while bacteria < 1000000:\n",
    "        print(\"Hour: \",int(time),\" No. Bacteria: \",bacteria)\n",
    "        bacteria = bacteria*2\n",
    "        time += rtime\n",
    "        \n",
    "    print(\"Bacteria reached stationarity\")\n",
    "else:\n",
    "    print(\"Please enter a temperature between 5 and 50\")\n",
    "\n"
   ]
  },
  {
   "cell_type": "markdown",
   "metadata": {},
   "source": [
    "#### 2) Splicing out introns\n",
    "\n",
    "**a)** \n",
    "Here’s a short section of genomic DNA:\n",
    "\n",
    "```\n",
    "ATCGATCGATCGATCGACTGACTAGTCATAGCTATGCAT\n",
    "GTAGCTACTCGATCGATCGATCGATCGATCGATCGATCG\n",
    "ATCGATCATGCTATCATCGATCGATATCGATGCATCGAC\n",
    "TACTAT\n",
    "```\n",
    "\n",
    "It comprises two exons and an intron. The first exon runs from the start of the sequence to the fifty-ninth character, and the second exon runs from the eighty-ninth character to the end of the sequence. \n",
    "\n",
    "Write a program that will print just the coding regions of the DNA sequence."
   ]
  },
  {
   "cell_type": "code",
   "execution_count": 3,
   "metadata": {},
   "outputs": [
    {
     "name": "stdout",
     "output_type": "stream",
     "text": [
      "ATCGATCGATCGATCGACTGACTAGTCATAGCTATGCATGTAGCTACTCGATCGATCGATATCATCGATCGATATCGATGCATCGACTACTAT\n"
     ]
    }
   ],
   "source": [
    "seq = 'ATCGATCGATCGATCGACTGACTAGTCATAGCTATGCATGTAGCTACTCGATCGATCGATCGATCGATCGATCGATCGATCGATCATGCTATCATCGATCGATATCGATGCATCGACTACTAT'\n",
    "\n",
    "## your code goes here\n",
    "\n",
    "codingregions = (seq[:59] + seq[89:])\n",
    "print (codingregions)"
   ]
  },
  {
   "cell_type": "markdown",
   "metadata": {},
   "source": [
    "**b)** \n",
    "Using the sequence from **a)**, write a program that will calculate what percentage of the DNA sequence is coding."
   ]
  },
  {
   "cell_type": "code",
   "execution_count": 4,
   "metadata": {},
   "outputs": [
    {
     "name": "stdout",
     "output_type": "stream",
     "text": [
      "75.60975609756098\n"
     ]
    }
   ],
   "source": [
    "## your code goes here\n",
    "codelen = len(codingregions)\n",
    "seqlen = len(seq)\n",
    "\n",
    "codepercent = (codelen/seqlen)*100\n",
    "print(codepercent)\n",
    "\n",
    "print(round())"
   ]
  },
  {
   "cell_type": "markdown",
   "metadata": {},
   "source": [
    "**c)**\n",
    "Using the sequence from **a)**, write a program that will print out the original genomic DNA sequence with coding bases in uppercase and non-coding bases in lowercase."
   ]
  },
  {
   "cell_type": "code",
   "execution_count": 5,
   "metadata": {},
   "outputs": [
    {
     "name": "stdout",
     "output_type": "stream",
     "text": [
      "ATCGATCGATCGATCGACTGACTAGTCATAGCTATGCATGTAGCTACTCGATCGATCGAtcgatcgatcgatcgatcgatcgatcatgcTATCATCGATCGATATCGATGCATCGACTACTAT\n"
     ]
    }
   ],
   "source": [
    "## your code goes here\n",
    "seqedit = seq.lower()\n",
    "seqeditcode1 = (seq[:59] + seq[89:])\n",
    "\n",
    "seqedit = seqedit.replace(seqedit[:59], seq[:59]) #replaces with uppercase sequence from original seq\n",
    "seqedit = seqedit.replace(seqedit[89:], seq[89:])\n",
    "print(seqedit)"
   ]
  },
  {
   "cell_type": "markdown",
   "metadata": {},
   "source": [
    "#### 3) Processing DNA\n",
    "\n",
    "The list `sequences` below contains a number of DNA sequences as strings. Each sequence starts with the same 14 base pair fragment – a sequencing adapter that should have been removed. \n",
    "\n",
    "Write a program that will trim this adapter and print the cleaned sequences to the screen. The program will then print the length of each cleaned sequence to the screen."
   ]
  },
  {
   "cell_type": "code",
   "execution_count": 12,
   "metadata": {},
   "outputs": [
    {
     "name": "stdout",
     "output_type": "stream",
     "text": [
      "Seq:  TCGATCGATCGATCGATCGATCGATCGATCGATCGATCGATC    Length: 42\n",
      "Seq:  ACTGATCGATCGATCGATCGATCGATGCTATCGTCGT    Length: 37\n",
      "Seq:  ATCGATCACGATCTATCGTACGTATGCATATCGATATCGATCGTAGTC    Length: 48\n",
      "Seq:  ACTATCGATGATCTAGCTACGATCGTAGCTGTA    Length: 33\n",
      "Seq:  ACTAGCTAGTCTCGATGCATGATCAGCTTAGCTGATGATGCTATGCA    Length: 47\n",
      "ATTCGATTATAAGC   TCGATCGATCGATCGATCGATCGATCGATCGATCGATCGATC length:  42\n",
      "ATTCGATTATAAGC   ACTGATCGATCGATCGATCGATCGATGCTATCGTCGT length:  37\n",
      "ATTCGATTATAAGC   ATCGATCACGATCTATCGTACGTATGCATATCGATATCGATCGTAGTC length:  48\n",
      "ATTCGATTATAAGC   ACTATCGATGATCTAGCTACGATCGTAGCTGTA length:  33\n",
      "ATTCGATTATAAGC   ACTAGCTAGTCTCGATGCATGATCAGCTTAGCTGATGATGCTATGCA length:  47\n"
     ]
    }
   ],
   "source": [
    "sequences = ['ATTCGATTATAAGCTCGATCGATCGATCGATCGATCGATCGATCGATCGATCGATC', \\\n",
    "'ATTCGATTATAAGCACTGATCGATCGATCGATCGATCGATGCTATCGTCGT', \\\n",
    "'ATTCGATTATAAGCATCGATCACGATCTATCGTACGTATGCATATCGATATCGATCGTAGTC', \\\n",
    "'ATTCGATTATAAGCACTATCGATGATCTAGCTACGATCGTAGCTGTA', \\\n",
    "'ATTCGATTATAAGCACTAGCTAGTCTCGATGCATGATCAGCTTAGCTGATGATGCTATGCA']\n",
    "\n",
    "\n",
    "## your code goes here\n",
    "\n",
    "no_primer = ' '.join(sequences).replace('ATTCGATTATAAGC','').split() #replaces the conserved adapter with nothing, deleting it\n",
    "for seq in no_primer:\n",
    "    print (\"Seq: \", seq, \"   Length:\",len(seq))\n",
    "    \n",
    "    \n",
    "for seq in sequences:\n",
    "    \n",
    "    \n",
    "    \n",
    "for read in sequences:\n",
    "    print(read[0:14], ' ', read[14:], 'length: ', len(read[14:]))"
   ]
  },
  {
   "cell_type": "markdown",
   "metadata": {},
   "source": [
    "#### 4) Multiple exons from genomic DNA\n",
    "\n",
    "The string `genomic_dna` below contains a section of genomic DNA.\n",
    "\n",
    "The list `exons` contains start/stop positions of exons as string indices. \n",
    "Each exon is a separate list (within the list of exons) with two elements: the start and stop positions. \n",
    "\n",
    "Write a program that will extract the exon segments from `genomic_dna` using the positions in `exons`, concatenate them, and print them to the screen."
   ]
  },
  {
   "cell_type": "code",
   "execution_count": 7,
   "metadata": {},
   "outputs": [
    {
     "name": "stdout",
     "output_type": "stream",
     "text": [
      "TCGTACCGTCGACGATGCTACGATCGTCGATCGTAGTCGATCATCGATCGATCGATCGATCGATATCGATCGATATCATCGATGCATCGATCATCGATCGATCGATCGATCGGATCGATCGATCGTAGCTAGCTAGCTAGATCGATCATCATCGTAGCTAGCTCGACTAGCTACGTACGATCGATGCATCGATATCGATCGATCGATCGATCGATCGATCGATCGATCGATCGTAGCTAGCTACGATC\n"
     ]
    }
   ],
   "source": [
    "genomic_dna = 'TCGATCGTACCGTCGACGATGCTACGATCGTCGATCGTAGTCGATCATCGATCGATCGACTGATCGATCGATCGATCGATCGATATCGATCGATATCATCGATGCATCGATCATCGATCGATCGATCGATCGATCGATCATATGTCAGTCGATGCATCGTAGCATCGTATAGTAGCTACGTAGCTACGATCGATCGATCGATCGTAGCTAGCTAGCTAGATCGATCATCATCGTAGCTAGCTCGACTAGCTACGTACGATCGATGCATCGATCGTAGCTAGTACGATCGCGTAGCTAGCATGCTACGTAGATCGATCGATGCATGCTAGCTAGCTAGCTACGATCGATCGATCGATCGATCGATCGATCGATCGATCGATCGTAGCTAGCTACGATCGATGCTACGTAGATCGATCGCTAGTAGATCGATCGCTAGCTAGCTGACTAGTACGCTGCTAGTAGTCAGCTAGATCGATGCTAGTCA'\n",
    "exons = [[4, 57], [73, 132], [191, 272], [342, 397]] # [[start, stop], [start, stop], ...]\n",
    "\n",
    "## your code goes here\n",
    "\n",
    "exonlist = []\n",
    "for exon in exons:\n",
    "    exon = genomic_dna[exon[0]:exon[1]] #runs through the exon list, using each list inside it as a means of filtering the genomic_dna string\n",
    "    exonlist.append(exon) #appends to the exonlist initialised above\n",
    "    \n",
    "exonlist = ''.join(exonlist) #concatonates list of exons into one string\n",
    "print (exonlist)"
   ]
  },
  {
   "cell_type": "markdown",
   "metadata": {},
   "source": [
    "#### 5) Drosophila gene expression experiment\n",
    "\n",
    "A set of experiments is conducted using RNA-seq for genes involved in the development of the eye using several species of the common fruit-fly, of which *Drosophila melanogaster* is the best known model organism. The following subset has been extracted and has been placed below in the *list* variable `data` below. Each entry consists of the species name, a DNA sequence corresponding to the first exon, the gene name and expression level measured. \n",
    "\n",
    "Write a program that will (i) print out the gene names belonging to  `Drosophila_melanogaster`, (ii) print out the gene names for all genes between 90 and 110 bp long, (iii) print out the gene names for all genes whose GC content is less that 50% and whose expression level is greater than 210, and (iv) print out the gene names whose name begins with a \"k\" or \"h\" except those belonging to Drosophila_ananassae\n",
    "\n",
    "*tips*\n",
    " - you may find using a function for the GC percentage calculation a useful strategy\n"
   ]
  },
  {
   "cell_type": "code",
   "execution_count": 66,
   "metadata": {},
   "outputs": [
    {
     "name": "stdout",
     "output_type": "stream",
     "text": [
      "Drosophila melanogaster gene:  kdy647\n",
      "Drosophila melanogaster gene:  jdg766\n",
      "Gene names between 90 and 110bp long:  kdy647\n",
      "Gene names between 90 and 110bp long:  kdy533\n",
      "Gene names between 90 and 110bp long:  teg436\n",
      "[264, 185, 485, 85, 356, 222]\n",
      "[3, 5]\n",
      "[0, 2, 4, 5]\n"
     ]
    }
   ],
   "source": [
    "data = ['Drosophila_melanogaster,atatatatatcgcgtatatatacgactatatgcattaattatagcatatcgatatatatatcgatattatatcgcattatacgcgcgtaattatatcgcgtaattacga,kdy647,264',\n",
    "'Drosophila_melanogaster,actgtgacgtgtactgtacgactatcgatacgtagtactgatcgctactgtaatgcatccatgctgacgtatctaagt,jdg766,185',\n",
    "'Drosophila_simulans,atcgatcatgtcgatcgatgatgcatccgactatcgtcgatcgtgatcgatcgatcgatcatcgatcgatgtcgatcatgtcgatatcgt,kdy533,485',\n",
    "'Drosophila_yakuba,cgcgcgctcgcgcatacggcctaatgcgcgcgctagcgatgc,hdt739,85',\n",
    "'Drosophila_ananassae,ttacgatcgatcgatcgatcgatcgtcgatcgtcgatgctacatcgatcatcatcggattagtcacatcgatcgatcatcgactgatcgtcgatcgtagatgctgacatcgatagca,hdu045,356',\n",
    "'Drosophila_ananassae,gcatcgatcgatcgcggcgcatcgatcgcgatcatcgatcatacgcgtcatatctatacgtcactgccgcgcgtatctacgcgatgactagctagact,teg436,222']\n",
    "\n",
    "## your code goes here\n",
    "names = []\n",
    "seqs = []\n",
    "genes = []\n",
    "expression =[]\n",
    "\n",
    "for x in data:\n",
    "    x = x.split(',')\n",
    "    names.append(x[0])\n",
    "    seqs.append(x[1])\n",
    "    genes.append(x[2])\n",
    "    expression.append(x[3]) #sorts by comma into 4 new lists\n",
    "\n",
    "    \n",
    "\n",
    "melanogaster_indices  = [index for (index, item) in enumerate(names) if item == \"Drosophila_melanogaster\"] #Detects the location of \"Drosophila_melanogaster\" in the names list\n",
    "for locus in melanogaster_indices:\n",
    "    print(\"Drosophila melanogaster gene: \",genes[locus])\n",
    "    \n",
    "    \n",
    "length_indices  = [index for (index, item) in enumerate(seqs) if len(item) >= 90 and len(item) <= 110]\n",
    "for locus in length_indices:\n",
    "    print(\"Gene names between 90 and 110bp long: \", genes[locus])\n",
    "    \n",
    "    \n",
    "\n",
    " # Function gets the GC percentage of a supplied sequence\n",
    "def individualGC(sequence):\n",
    "    seqlength = len(sequence)\n",
    "    gcount = sequence.count('g')\n",
    "    ccount = sequence.count('c')\n",
    "    gccount = gcount + ccount\n",
    "    gcpercent = (gccount/seqlength)*100\n",
    "    return(gcpercent)\n",
    "\n",
    "expressionint = []\n",
    "for x in expression:\n",
    "    x = int(x)\n",
    "    expressionint.append(x)\n",
    "\n",
    "print (expressionint)  \n",
    "    \n",
    "    \n",
    "gc_indices  = [index for (index, item) in enumerate(seqs) if individualGC(item) > 50]\n",
    "print (gc_indices)\n",
    "exp_indices  = [index for (index, item) in enumerate(expressionint) if item > 210]\n",
    "print(exp_indices)\n",
    "\n",
    "for x in gc_indices:\n",
    "    pass #didn't finish, was going to compare them and from there generate list of genes :[\n",
    "\n",
    "\n",
    "\n",
    "\n",
    "\n",
    "\n",
    "\n",
    "\n",
    "\n",
    "\n",
    "\n",
    "\n",
    "\n",
    "\n",
    "\n",
    "\n",
    "\n",
    "\n",
    "\n",
    "for element in data:\n",
    "    split = data.split(',')\n",
    "    name = split[0]\n",
    "    seq = split[1]\n",
    "    gene = split[2]\n",
    "    exp = split[3]\n",
    "    if name == \"Drosophila_melanogaster\":\n",
    "        gene_name_1.appened(gene)\n",
    "    if len(seq) > 90 and len(seq) <110:\n",
    "        gene_names_2.append(gene)\n",
    "    if cg content(seq) < 50:\n",
    "        gene_names_3.append(gene)\n",
    "    if (gene[0] == 'k' or gene[0] =='j' and not name == 'Drosophila_ananassae':\n",
    "        gene_names_4.append(gene)\n",
    "\n",
    "    "
   ]
  },
  {
   "cell_type": "code",
   "execution_count": null,
   "metadata": {},
   "outputs": [],
   "source": []
  }
 ],
 "metadata": {
  "kernelspec": {
   "display_name": "Python 3 (ipykernel)",
   "language": "python",
   "name": "python3"
  },
  "language_info": {
   "codemirror_mode": {
    "name": "ipython",
    "version": 3
   },
   "file_extension": ".py",
   "mimetype": "text/x-python",
   "name": "python",
   "nbconvert_exporter": "python",
   "pygments_lexer": "ipython3",
   "version": "3.9.12"
  }
 },
 "nbformat": 4,
 "nbformat_minor": 2
}
