{
 "cells": [
  {
   "cell_type": "code",
   "execution_count": 23,
   "id": "b775ccc8",
   "metadata": {},
   "outputs": [
    {
     "name": "stdout",
     "output_type": "stream",
     "text": [
      "Welcome to the humble script: Please ensure you are running in the directory above your target directory\n",
      "Directories below:\n",
      "biopython_files/\n",
      "BrandnewTest/\n",
      "fastqc_out/\n",
      "lec4_files/\n",
      "test_dataset/\n",
      "Please enter the name of the directory to trim: test_dataset\n",
      "Please enter the name of the new directory: skiddleflop\n",
      "# got list of files in: test_dataset\n",
      "# created subdir: skiddleflop\n",
      "exampleHIV.interleaved.part-01.fastq\n",
      "trimmomatic SE -phred33 test_dataset/exampleHIV.interleaved.part-01.fastq TrimmedexampleHIV.interleaved.part-01.fastq ILLUMINACLIP:TruSeq3-SE:2:30:10 LEADING:3 TRAILING:3 SLIDINGWINDOW:4:15 MINLEN:36\n"
     ]
    },
    {
     "name": "stderr",
     "output_type": "stream",
     "text": [
      "TrimmomaticSE: Started with arguments:\n",
      " -phred33 test_dataset/exampleHIV.interleaved.part-01.fastq TrimmedexampleHIV.interleaved.part-01.fastq ILLUMINACLIP:TruSeq3-SE:2:30:10 LEADING:3 TRAILING:3 SLIDINGWINDOW:4:15 MINLEN:36\n",
      "Automatically using 1 threads\n",
      "java.io.FileNotFoundException: /home/josh/Documents/MA5114_ProgrammingforBio/TruSeq3-SE (No such file or directory)\n",
      "\tat java.io.FileInputStream.open0(Native Method)\n",
      "\tat java.io.FileInputStream.open(FileInputStream.java:195)\n",
      "\tat java.io.FileInputStream.<init>(FileInputStream.java:138)\n",
      "\tat org.usadellab.trimmomatic.fasta.FastaParser.parse(FastaParser.java:54)\n",
      "\tat org.usadellab.trimmomatic.trim.IlluminaClippingTrimmer.loadSequences(IlluminaClippingTrimmer.java:110)\n",
      "\tat org.usadellab.trimmomatic.trim.IlluminaClippingTrimmer.makeIlluminaClippingTrimmer(IlluminaClippingTrimmer.java:71)\n",
      "\tat org.usadellab.trimmomatic.trim.TrimmerFactory.makeTrimmer(TrimmerFactory.java:32)\n",
      "\tat org.usadellab.trimmomatic.Trimmomatic.createTrimmers(Trimmomatic.java:59)\n",
      "\tat org.usadellab.trimmomatic.TrimmomaticSE.run(TrimmomaticSE.java:318)\n",
      "\tat org.usadellab.trimmomatic.Trimmomatic.main(Trimmomatic.java:85)\n",
      "Input Reads: 469 Surviving: 467 (99.57%) Dropped: 2 (0.43%)\n",
      "TrimmomaticSE: Completed successfully\n"
     ]
    },
    {
     "name": "stdout",
     "output_type": "stream",
     "text": [
      "mv TrimmedexampleHIV.interleaved.part-01.fastq skiddleflop\n",
      "exampleHIV.interleaved.part-12.fastq\n",
      "trimmomatic SE -phred33 test_dataset/exampleHIV.interleaved.part-12.fastq TrimmedexampleHIV.interleaved.part-12.fastq ILLUMINACLIP:TruSeq3-SE:2:30:10 LEADING:3 TRAILING:3 SLIDINGWINDOW:4:15 MINLEN:36\n"
     ]
    },
    {
     "name": "stderr",
     "output_type": "stream",
     "text": [
      "TrimmomaticSE: Started with arguments:\n",
      " -phred33 test_dataset/exampleHIV.interleaved.part-12.fastq TrimmedexampleHIV.interleaved.part-12.fastq ILLUMINACLIP:TruSeq3-SE:2:30:10 LEADING:3 TRAILING:3 SLIDINGWINDOW:4:15 MINLEN:36\n",
      "Automatically using 1 threads\n",
      "java.io.FileNotFoundException: /home/josh/Documents/MA5114_ProgrammingforBio/TruSeq3-SE (No such file or directory)\n",
      "\tat java.io.FileInputStream.open0(Native Method)\n",
      "\tat java.io.FileInputStream.open(FileInputStream.java:195)\n",
      "\tat java.io.FileInputStream.<init>(FileInputStream.java:138)\n",
      "\tat org.usadellab.trimmomatic.fasta.FastaParser.parse(FastaParser.java:54)\n",
      "\tat org.usadellab.trimmomatic.trim.IlluminaClippingTrimmer.loadSequences(IlluminaClippingTrimmer.java:110)\n",
      "\tat org.usadellab.trimmomatic.trim.IlluminaClippingTrimmer.makeIlluminaClippingTrimmer(IlluminaClippingTrimmer.java:71)\n",
      "\tat org.usadellab.trimmomatic.trim.TrimmerFactory.makeTrimmer(TrimmerFactory.java:32)\n",
      "\tat org.usadellab.trimmomatic.Trimmomatic.createTrimmers(Trimmomatic.java:59)\n",
      "\tat org.usadellab.trimmomatic.TrimmomaticSE.run(TrimmomaticSE.java:318)\n",
      "\tat org.usadellab.trimmomatic.Trimmomatic.main(Trimmomatic.java:85)\n",
      "Input Reads: 464 Surviving: 460 (99.14%) Dropped: 4 (0.86%)\n",
      "TrimmomaticSE: Completed successfully\n"
     ]
    },
    {
     "name": "stdout",
     "output_type": "stream",
     "text": [
      "mv TrimmedexampleHIV.interleaved.part-12.fastq skiddleflop\n",
      "exampleHIV.interleaved.part-02.fastq\n",
      "trimmomatic SE -phred33 test_dataset/exampleHIV.interleaved.part-02.fastq TrimmedexampleHIV.interleaved.part-02.fastq ILLUMINACLIP:TruSeq3-SE:2:30:10 LEADING:3 TRAILING:3 SLIDINGWINDOW:4:15 MINLEN:36\n"
     ]
    },
    {
     "name": "stderr",
     "output_type": "stream",
     "text": [
      "TrimmomaticSE: Started with arguments:\n",
      " -phred33 test_dataset/exampleHIV.interleaved.part-02.fastq TrimmedexampleHIV.interleaved.part-02.fastq ILLUMINACLIP:TruSeq3-SE:2:30:10 LEADING:3 TRAILING:3 SLIDINGWINDOW:4:15 MINLEN:36\n",
      "Automatically using 1 threads\n",
      "java.io.FileNotFoundException: /home/josh/Documents/MA5114_ProgrammingforBio/TruSeq3-SE (No such file or directory)\n",
      "\tat java.io.FileInputStream.open0(Native Method)\n",
      "\tat java.io.FileInputStream.open(FileInputStream.java:195)\n",
      "\tat java.io.FileInputStream.<init>(FileInputStream.java:138)\n",
      "\tat org.usadellab.trimmomatic.fasta.FastaParser.parse(FastaParser.java:54)\n",
      "\tat org.usadellab.trimmomatic.trim.IlluminaClippingTrimmer.loadSequences(IlluminaClippingTrimmer.java:110)\n",
      "\tat org.usadellab.trimmomatic.trim.IlluminaClippingTrimmer.makeIlluminaClippingTrimmer(IlluminaClippingTrimmer.java:71)\n",
      "\tat org.usadellab.trimmomatic.trim.TrimmerFactory.makeTrimmer(TrimmerFactory.java:32)\n",
      "\tat org.usadellab.trimmomatic.Trimmomatic.createTrimmers(Trimmomatic.java:59)\n",
      "\tat org.usadellab.trimmomatic.TrimmomaticSE.run(TrimmomaticSE.java:318)\n",
      "\tat org.usadellab.trimmomatic.Trimmomatic.main(Trimmomatic.java:85)\n",
      "Input Reads: 466 Surviving: 462 (99.14%) Dropped: 4 (0.86%)\n",
      "TrimmomaticSE: Completed successfully\n"
     ]
    },
    {
     "name": "stdout",
     "output_type": "stream",
     "text": [
      "mv TrimmedexampleHIV.interleaved.part-02.fastq skiddleflop\n",
      "exampleHIV.interleaved.part-03.fastq\n",
      "trimmomatic SE -phred33 test_dataset/exampleHIV.interleaved.part-03.fastq TrimmedexampleHIV.interleaved.part-03.fastq ILLUMINACLIP:TruSeq3-SE:2:30:10 LEADING:3 TRAILING:3 SLIDINGWINDOW:4:15 MINLEN:36\n"
     ]
    },
    {
     "name": "stderr",
     "output_type": "stream",
     "text": [
      "TrimmomaticSE: Started with arguments:\n",
      " -phred33 test_dataset/exampleHIV.interleaved.part-03.fastq TrimmedexampleHIV.interleaved.part-03.fastq ILLUMINACLIP:TruSeq3-SE:2:30:10 LEADING:3 TRAILING:3 SLIDINGWINDOW:4:15 MINLEN:36\n",
      "Automatically using 1 threads\n",
      "java.io.FileNotFoundException: /home/josh/Documents/MA5114_ProgrammingforBio/TruSeq3-SE (No such file or directory)\n",
      "\tat java.io.FileInputStream.open0(Native Method)\n",
      "\tat java.io.FileInputStream.open(FileInputStream.java:195)\n",
      "\tat java.io.FileInputStream.<init>(FileInputStream.java:138)\n",
      "\tat org.usadellab.trimmomatic.fasta.FastaParser.parse(FastaParser.java:54)\n",
      "\tat org.usadellab.trimmomatic.trim.IlluminaClippingTrimmer.loadSequences(IlluminaClippingTrimmer.java:110)\n",
      "\tat org.usadellab.trimmomatic.trim.IlluminaClippingTrimmer.makeIlluminaClippingTrimmer(IlluminaClippingTrimmer.java:71)\n",
      "\tat org.usadellab.trimmomatic.trim.TrimmerFactory.makeTrimmer(TrimmerFactory.java:32)\n",
      "\tat org.usadellab.trimmomatic.Trimmomatic.createTrimmers(Trimmomatic.java:59)\n",
      "\tat org.usadellab.trimmomatic.TrimmomaticSE.run(TrimmomaticSE.java:318)\n",
      "\tat org.usadellab.trimmomatic.Trimmomatic.main(Trimmomatic.java:85)\n",
      "Input Reads: 467 Surviving: 465 (99.57%) Dropped: 2 (0.43%)\n",
      "TrimmomaticSE: Completed successfully\n"
     ]
    },
    {
     "name": "stdout",
     "output_type": "stream",
     "text": [
      "mv TrimmedexampleHIV.interleaved.part-03.fastq skiddleflop\n",
      "exampleHIV.interleaved.part-09.fastq\n",
      "trimmomatic SE -phred33 test_dataset/exampleHIV.interleaved.part-09.fastq TrimmedexampleHIV.interleaved.part-09.fastq ILLUMINACLIP:TruSeq3-SE:2:30:10 LEADING:3 TRAILING:3 SLIDINGWINDOW:4:15 MINLEN:36\n"
     ]
    },
    {
     "name": "stderr",
     "output_type": "stream",
     "text": [
      "TrimmomaticSE: Started with arguments:\n",
      " -phred33 test_dataset/exampleHIV.interleaved.part-09.fastq TrimmedexampleHIV.interleaved.part-09.fastq ILLUMINACLIP:TruSeq3-SE:2:30:10 LEADING:3 TRAILING:3 SLIDINGWINDOW:4:15 MINLEN:36\n",
      "Automatically using 1 threads\n",
      "java.io.FileNotFoundException: /home/josh/Documents/MA5114_ProgrammingforBio/TruSeq3-SE (No such file or directory)\n",
      "\tat java.io.FileInputStream.open0(Native Method)\n",
      "\tat java.io.FileInputStream.open(FileInputStream.java:195)\n",
      "\tat java.io.FileInputStream.<init>(FileInputStream.java:138)\n",
      "\tat org.usadellab.trimmomatic.fasta.FastaParser.parse(FastaParser.java:54)\n",
      "\tat org.usadellab.trimmomatic.trim.IlluminaClippingTrimmer.loadSequences(IlluminaClippingTrimmer.java:110)\n",
      "\tat org.usadellab.trimmomatic.trim.IlluminaClippingTrimmer.makeIlluminaClippingTrimmer(IlluminaClippingTrimmer.java:71)\n",
      "\tat org.usadellab.trimmomatic.trim.TrimmerFactory.makeTrimmer(TrimmerFactory.java:32)\n",
      "\tat org.usadellab.trimmomatic.Trimmomatic.createTrimmers(Trimmomatic.java:59)\n",
      "\tat org.usadellab.trimmomatic.TrimmomaticSE.run(TrimmomaticSE.java:318)\n",
      "\tat org.usadellab.trimmomatic.Trimmomatic.main(Trimmomatic.java:85)\n",
      "Input Reads: 464 Surviving: 459 (98.92%) Dropped: 5 (1.08%)\n",
      "TrimmomaticSE: Completed successfully\n"
     ]
    },
    {
     "name": "stdout",
     "output_type": "stream",
     "text": [
      "mv TrimmedexampleHIV.interleaved.part-09.fastq skiddleflop\n",
      "exampleHIV.interleaved.part-06.fastq\n",
      "trimmomatic SE -phred33 test_dataset/exampleHIV.interleaved.part-06.fastq TrimmedexampleHIV.interleaved.part-06.fastq ILLUMINACLIP:TruSeq3-SE:2:30:10 LEADING:3 TRAILING:3 SLIDINGWINDOW:4:15 MINLEN:36\n"
     ]
    },
    {
     "name": "stderr",
     "output_type": "stream",
     "text": [
      "TrimmomaticSE: Started with arguments:\n",
      " -phred33 test_dataset/exampleHIV.interleaved.part-06.fastq TrimmedexampleHIV.interleaved.part-06.fastq ILLUMINACLIP:TruSeq3-SE:2:30:10 LEADING:3 TRAILING:3 SLIDINGWINDOW:4:15 MINLEN:36\n",
      "Automatically using 1 threads\n",
      "java.io.FileNotFoundException: /home/josh/Documents/MA5114_ProgrammingforBio/TruSeq3-SE (No such file or directory)\n",
      "\tat java.io.FileInputStream.open0(Native Method)\n",
      "\tat java.io.FileInputStream.open(FileInputStream.java:195)\n",
      "\tat java.io.FileInputStream.<init>(FileInputStream.java:138)\n",
      "\tat org.usadellab.trimmomatic.fasta.FastaParser.parse(FastaParser.java:54)\n",
      "\tat org.usadellab.trimmomatic.trim.IlluminaClippingTrimmer.loadSequences(IlluminaClippingTrimmer.java:110)\n",
      "\tat org.usadellab.trimmomatic.trim.IlluminaClippingTrimmer.makeIlluminaClippingTrimmer(IlluminaClippingTrimmer.java:71)\n",
      "\tat org.usadellab.trimmomatic.trim.TrimmerFactory.makeTrimmer(TrimmerFactory.java:32)\n",
      "\tat org.usadellab.trimmomatic.Trimmomatic.createTrimmers(Trimmomatic.java:59)\n",
      "\tat org.usadellab.trimmomatic.TrimmomaticSE.run(TrimmomaticSE.java:318)\n",
      "\tat org.usadellab.trimmomatic.Trimmomatic.main(Trimmomatic.java:85)\n",
      "Input Reads: 467 Surviving: 464 (99.36%) Dropped: 3 (0.64%)\n",
      "TrimmomaticSE: Completed successfully\n"
     ]
    },
    {
     "name": "stdout",
     "output_type": "stream",
     "text": [
      "mv TrimmedexampleHIV.interleaved.part-06.fastq skiddleflop\n",
      "exampleHIV.interleaved.part-11.fastq\n",
      "trimmomatic SE -phred33 test_dataset/exampleHIV.interleaved.part-11.fastq TrimmedexampleHIV.interleaved.part-11.fastq ILLUMINACLIP:TruSeq3-SE:2:30:10 LEADING:3 TRAILING:3 SLIDINGWINDOW:4:15 MINLEN:36\n",
      "mv TrimmedexampleHIV.interleaved.part-11.fastq skiddleflop\n"
     ]
    },
    {
     "name": "stderr",
     "output_type": "stream",
     "text": [
      "TrimmomaticSE: Started with arguments:\n",
      " -phred33 test_dataset/exampleHIV.interleaved.part-11.fastq TrimmedexampleHIV.interleaved.part-11.fastq ILLUMINACLIP:TruSeq3-SE:2:30:10 LEADING:3 TRAILING:3 SLIDINGWINDOW:4:15 MINLEN:36\n",
      "Automatically using 1 threads\n",
      "java.io.FileNotFoundException: /home/josh/Documents/MA5114_ProgrammingforBio/TruSeq3-SE (No such file or directory)\n",
      "\tat java.io.FileInputStream.open0(Native Method)\n",
      "\tat java.io.FileInputStream.open(FileInputStream.java:195)\n",
      "\tat java.io.FileInputStream.<init>(FileInputStream.java:138)\n",
      "\tat org.usadellab.trimmomatic.fasta.FastaParser.parse(FastaParser.java:54)\n",
      "\tat org.usadellab.trimmomatic.trim.IlluminaClippingTrimmer.loadSequences(IlluminaClippingTrimmer.java:110)\n",
      "\tat org.usadellab.trimmomatic.trim.IlluminaClippingTrimmer.makeIlluminaClippingTrimmer(IlluminaClippingTrimmer.java:71)\n",
      "\tat org.usadellab.trimmomatic.trim.TrimmerFactory.makeTrimmer(TrimmerFactory.java:32)\n",
      "\tat org.usadellab.trimmomatic.Trimmomatic.createTrimmers(Trimmomatic.java:59)\n",
      "\tat org.usadellab.trimmomatic.TrimmomaticSE.run(TrimmomaticSE.java:318)\n",
      "\tat org.usadellab.trimmomatic.Trimmomatic.main(Trimmomatic.java:85)\n",
      "Input Reads: 465 Surviving: 461 (99.14%) Dropped: 4 (0.86%)\n",
      "TrimmomaticSE: Completed successfully\n",
      "TrimmomaticSE: Started with arguments:\n",
      " -phred33 test_dataset/exampleHIV.interleaved.part-07.fastq TrimmedexampleHIV.interleaved.part-07.fastq ILLUMINACLIP:TruSeq3-SE:2:30:10 LEADING:3 TRAILING:3 SLIDINGWINDOW:4:15 MINLEN:36\n",
      "Automatically using 1 threads\n",
      "java.io.FileNotFoundException: /home/josh/Documents/MA5114_ProgrammingforBio/TruSeq3-SE (No such file or directory)\n",
      "\tat java.io.FileInputStream.open0(Native Method)\n",
      "\tat java.io.FileInputStream.open(FileInputStream.java:195)\n",
      "\tat java.io.FileInputStream.<init>(FileInputStream.java:138)\n",
      "\tat org.usadellab.trimmomatic.fasta.FastaParser.parse(FastaParser.java:54)\n",
      "\tat org.usadellab.trimmomatic.trim.IlluminaClippingTrimmer.loadSequences(IlluminaClippingTrimmer.java:110)\n",
      "\tat org.usadellab.trimmomatic.trim.IlluminaClippingTrimmer.makeIlluminaClippingTrimmer(IlluminaClippingTrimmer.java:71)\n",
      "\tat org.usadellab.trimmomatic.trim.TrimmerFactory.makeTrimmer(TrimmerFactory.java:32)\n",
      "\tat org.usadellab.trimmomatic.Trimmomatic.createTrimmers(Trimmomatic.java:59)\n",
      "\tat org.usadellab.trimmomatic.TrimmomaticSE.run(TrimmomaticSE.java:318)\n",
      "\tat org.usadellab.trimmomatic.Trimmomatic.main(Trimmomatic.java:85)\n"
     ]
    },
    {
     "name": "stdout",
     "output_type": "stream",
     "text": [
      "exampleHIV.interleaved.part-07.fastq\n",
      "trimmomatic SE -phred33 test_dataset/exampleHIV.interleaved.part-07.fastq TrimmedexampleHIV.interleaved.part-07.fastq ILLUMINACLIP:TruSeq3-SE:2:30:10 LEADING:3 TRAILING:3 SLIDINGWINDOW:4:15 MINLEN:36\n",
      "mv TrimmedexampleHIV.interleaved.part-07.fastq skiddleflop\n"
     ]
    },
    {
     "name": "stderr",
     "output_type": "stream",
     "text": [
      "Input Reads: 466 Surviving: 463 (99.36%) Dropped: 3 (0.64%)\n",
      "TrimmomaticSE: Completed successfully\n"
     ]
    },
    {
     "name": "stdout",
     "output_type": "stream",
     "text": [
      "exampleHIV.interleaved.part-10.fastq\n",
      "trimmomatic SE -phred33 test_dataset/exampleHIV.interleaved.part-10.fastq TrimmedexampleHIV.interleaved.part-10.fastq ILLUMINACLIP:TruSeq3-SE:2:30:10 LEADING:3 TRAILING:3 SLIDINGWINDOW:4:15 MINLEN:36\n"
     ]
    },
    {
     "name": "stderr",
     "output_type": "stream",
     "text": [
      "TrimmomaticSE: Started with arguments:\n",
      " -phred33 test_dataset/exampleHIV.interleaved.part-10.fastq TrimmedexampleHIV.interleaved.part-10.fastq ILLUMINACLIP:TruSeq3-SE:2:30:10 LEADING:3 TRAILING:3 SLIDINGWINDOW:4:15 MINLEN:36\n",
      "Automatically using 1 threads\n",
      "java.io.FileNotFoundException: /home/josh/Documents/MA5114_ProgrammingforBio/TruSeq3-SE (No such file or directory)\n",
      "\tat java.io.FileInputStream.open0(Native Method)\n",
      "\tat java.io.FileInputStream.open(FileInputStream.java:195)\n",
      "\tat java.io.FileInputStream.<init>(FileInputStream.java:138)\n",
      "\tat org.usadellab.trimmomatic.fasta.FastaParser.parse(FastaParser.java:54)\n",
      "\tat org.usadellab.trimmomatic.trim.IlluminaClippingTrimmer.loadSequences(IlluminaClippingTrimmer.java:110)\n",
      "\tat org.usadellab.trimmomatic.trim.IlluminaClippingTrimmer.makeIlluminaClippingTrimmer(IlluminaClippingTrimmer.java:71)\n",
      "\tat org.usadellab.trimmomatic.trim.TrimmerFactory.makeTrimmer(TrimmerFactory.java:32)\n",
      "\tat org.usadellab.trimmomatic.Trimmomatic.createTrimmers(Trimmomatic.java:59)\n",
      "\tat org.usadellab.trimmomatic.TrimmomaticSE.run(TrimmomaticSE.java:318)\n",
      "\tat org.usadellab.trimmomatic.Trimmomatic.main(Trimmomatic.java:85)\n",
      "Input Reads: 465 Surviving: 458 (98.49%) Dropped: 7 (1.51%)\n",
      "TrimmomaticSE: Completed successfully\n"
     ]
    },
    {
     "name": "stdout",
     "output_type": "stream",
     "text": [
      "mv TrimmedexampleHIV.interleaved.part-10.fastq skiddleflop\n",
      "exampleHIV.interleaved.part-08.fastq\n",
      "trimmomatic SE -phred33 test_dataset/exampleHIV.interleaved.part-08.fastq TrimmedexampleHIV.interleaved.part-08.fastq ILLUMINACLIP:TruSeq3-SE:2:30:10 LEADING:3 TRAILING:3 SLIDINGWINDOW:4:15 MINLEN:36\n"
     ]
    },
    {
     "name": "stderr",
     "output_type": "stream",
     "text": [
      "TrimmomaticSE: Started with arguments:\n",
      " -phred33 test_dataset/exampleHIV.interleaved.part-08.fastq TrimmedexampleHIV.interleaved.part-08.fastq ILLUMINACLIP:TruSeq3-SE:2:30:10 LEADING:3 TRAILING:3 SLIDINGWINDOW:4:15 MINLEN:36\n",
      "Automatically using 1 threads\n",
      "java.io.FileNotFoundException: /home/josh/Documents/MA5114_ProgrammingforBio/TruSeq3-SE (No such file or directory)\n",
      "\tat java.io.FileInputStream.open0(Native Method)\n",
      "\tat java.io.FileInputStream.open(FileInputStream.java:195)\n",
      "\tat java.io.FileInputStream.<init>(FileInputStream.java:138)\n",
      "\tat org.usadellab.trimmomatic.fasta.FastaParser.parse(FastaParser.java:54)\n",
      "\tat org.usadellab.trimmomatic.trim.IlluminaClippingTrimmer.loadSequences(IlluminaClippingTrimmer.java:110)\n",
      "\tat org.usadellab.trimmomatic.trim.IlluminaClippingTrimmer.makeIlluminaClippingTrimmer(IlluminaClippingTrimmer.java:71)\n",
      "\tat org.usadellab.trimmomatic.trim.TrimmerFactory.makeTrimmer(TrimmerFactory.java:32)\n",
      "\tat org.usadellab.trimmomatic.Trimmomatic.createTrimmers(Trimmomatic.java:59)\n",
      "\tat org.usadellab.trimmomatic.TrimmomaticSE.run(TrimmomaticSE.java:318)\n",
      "\tat org.usadellab.trimmomatic.Trimmomatic.main(Trimmomatic.java:85)\n",
      "Input Reads: 467 Surviving: 464 (99.36%) Dropped: 3 (0.64%)\n",
      "TrimmomaticSE: Completed successfully\n"
     ]
    },
    {
     "name": "stdout",
     "output_type": "stream",
     "text": [
      "mv TrimmedexampleHIV.interleaved.part-08.fastq skiddleflop\n",
      "exampleHIV.interleaved.part-05.fastq\n",
      "trimmomatic SE -phred33 test_dataset/exampleHIV.interleaved.part-05.fastq TrimmedexampleHIV.interleaved.part-05.fastq ILLUMINACLIP:TruSeq3-SE:2:30:10 LEADING:3 TRAILING:3 SLIDINGWINDOW:4:15 MINLEN:36\n"
     ]
    },
    {
     "name": "stderr",
     "output_type": "stream",
     "text": [
      "TrimmomaticSE: Started with arguments:\n",
      " -phred33 test_dataset/exampleHIV.interleaved.part-05.fastq TrimmedexampleHIV.interleaved.part-05.fastq ILLUMINACLIP:TruSeq3-SE:2:30:10 LEADING:3 TRAILING:3 SLIDINGWINDOW:4:15 MINLEN:36\n",
      "Automatically using 1 threads\n",
      "java.io.FileNotFoundException: /home/josh/Documents/MA5114_ProgrammingforBio/TruSeq3-SE (No such file or directory)\n",
      "\tat java.io.FileInputStream.open0(Native Method)\n",
      "\tat java.io.FileInputStream.open(FileInputStream.java:195)\n",
      "\tat java.io.FileInputStream.<init>(FileInputStream.java:138)\n",
      "\tat org.usadellab.trimmomatic.fasta.FastaParser.parse(FastaParser.java:54)\n",
      "\tat org.usadellab.trimmomatic.trim.IlluminaClippingTrimmer.loadSequences(IlluminaClippingTrimmer.java:110)\n",
      "\tat org.usadellab.trimmomatic.trim.IlluminaClippingTrimmer.makeIlluminaClippingTrimmer(IlluminaClippingTrimmer.java:71)\n",
      "\tat org.usadellab.trimmomatic.trim.TrimmerFactory.makeTrimmer(TrimmerFactory.java:32)\n",
      "\tat org.usadellab.trimmomatic.Trimmomatic.createTrimmers(Trimmomatic.java:59)\n",
      "\tat org.usadellab.trimmomatic.TrimmomaticSE.run(TrimmomaticSE.java:318)\n",
      "\tat org.usadellab.trimmomatic.Trimmomatic.main(Trimmomatic.java:85)\n",
      "Input Reads: 467 Surviving: 463 (99.14%) Dropped: 4 (0.86%)\n",
      "TrimmomaticSE: Completed successfully\n"
     ]
    },
    {
     "name": "stdout",
     "output_type": "stream",
     "text": [
      "mv TrimmedexampleHIV.interleaved.part-05.fastq skiddleflop\n",
      "exampleHIV.interleaved.part-04.fastq\n",
      "trimmomatic SE -phred33 test_dataset/exampleHIV.interleaved.part-04.fastq TrimmedexampleHIV.interleaved.part-04.fastq ILLUMINACLIP:TruSeq3-SE:2:30:10 LEADING:3 TRAILING:3 SLIDINGWINDOW:4:15 MINLEN:36\n",
      "mv TrimmedexampleHIV.interleaved.part-04.fastq skiddleflop\n",
      "#done\n"
     ]
    },
    {
     "name": "stderr",
     "output_type": "stream",
     "text": [
      "TrimmomaticSE: Started with arguments:\n",
      " -phred33 test_dataset/exampleHIV.interleaved.part-04.fastq TrimmedexampleHIV.interleaved.part-04.fastq ILLUMINACLIP:TruSeq3-SE:2:30:10 LEADING:3 TRAILING:3 SLIDINGWINDOW:4:15 MINLEN:36\n",
      "Automatically using 1 threads\n",
      "java.io.FileNotFoundException: /home/josh/Documents/MA5114_ProgrammingforBio/TruSeq3-SE (No such file or directory)\n",
      "\tat java.io.FileInputStream.open0(Native Method)\n",
      "\tat java.io.FileInputStream.open(FileInputStream.java:195)\n",
      "\tat java.io.FileInputStream.<init>(FileInputStream.java:138)\n",
      "\tat org.usadellab.trimmomatic.fasta.FastaParser.parse(FastaParser.java:54)\n",
      "\tat org.usadellab.trimmomatic.trim.IlluminaClippingTrimmer.loadSequences(IlluminaClippingTrimmer.java:110)\n",
      "\tat org.usadellab.trimmomatic.trim.IlluminaClippingTrimmer.makeIlluminaClippingTrimmer(IlluminaClippingTrimmer.java:71)\n",
      "\tat org.usadellab.trimmomatic.trim.TrimmerFactory.makeTrimmer(TrimmerFactory.java:32)\n",
      "\tat org.usadellab.trimmomatic.Trimmomatic.createTrimmers(Trimmomatic.java:59)\n",
      "\tat org.usadellab.trimmomatic.TrimmomaticSE.run(TrimmomaticSE.java:318)\n",
      "\tat org.usadellab.trimmomatic.Trimmomatic.main(Trimmomatic.java:85)\n",
      "Input Reads: 467 Surviving: 461 (98.72%) Dropped: 6 (1.28%)\n",
      "TrimmomaticSE: Completed successfully\n"
     ]
    }
   ],
   "source": [
    "#name: trim_sequences.py\n",
    "\n",
    "#author: Josh\n",
    "#date: 22/11/2022\n",
    "\n",
    "#description: Script to run trimmomatic on everything in a given folder, \n",
    "\n",
    "\n",
    "#import modules\n",
    "\n",
    "import os\n",
    "\n",
    "import subprocess\n",
    "\n",
    "\n",
    "# set up directory variables\n",
    "print(\"Welcome to the humble script: Please ensure you are running in the directory above your target directory\")\n",
    "print(\"Directories below:\")\n",
    "directorycommand = \"ls -d */\" #prints a list of dirs in working dir\n",
    "os.system(directorycommand)\n",
    "\n",
    "seq_dir =input(\"Please enter the name of the directory to trim: \")\n",
    "trim_dir = input(\"Please enter the name of the new directory: \")# create output directory\n",
    "\n",
    "\n",
    "    # get list of FASTQ files\n",
    "try:    \n",
    "    file_list = os.listdir(seq_dir)\n",
    "    print ('# got list of files in: ' + seq_dir)\n",
    "    \n",
    "    os.mkdir(trim_dir)\n",
    "    print ('# created subdir: ' + trim_dir)\n",
    "    # create the command string for each sequence\n",
    "    # & implement it \n",
    "    for seq in file_list:\n",
    "        print(seq)\n",
    "        command = 'trimmomatic '+'SE '+'-phred33 ' + seq_dir + '/' + seq +' Trimmed'+seq+ ' ILLUMINACLIP:TruSeq3-SE:2:30:10 LEADING:3 TRAILING:3 SLIDINGWINDOW:4:15 MINLEN:36'\n",
    "        print(command)\n",
    "        os.system(command)\n",
    "\n",
    "        command1 = 'mv ' + 'Trimmed'+seq + ' ' + trim_dir\n",
    "        print (command1)# mv trimmed files out of sequence directory \n",
    "        os.system(command1)\n",
    "    \n",
    "except:\n",
    "    print(\"Error, did you enter valid directories?\")\n",
    "\n",
    "\n",
    "\n",
    "\n",
    "print ('#done')   "
   ]
  },
  {
   "cell_type": "code",
   "execution_count": 18,
   "id": "02a9e065",
   "metadata": {},
   "outputs": [
    {
     "ename": "NameError",
     "evalue": "name 'lisdir' is not defined",
     "output_type": "error",
     "traceback": [
      "\u001b[0;31m---------------------------------------------------------------------------\u001b[0m",
      "\u001b[0;31mNameError\u001b[0m                                 Traceback (most recent call last)",
      "Input \u001b[0;32mIn [18]\u001b[0m, in \u001b[0;36m<cell line: 1>\u001b[0;34m()\u001b[0m\n\u001b[0;32m----> 1\u001b[0m \u001b[43mlisdir\u001b[49m()\n",
      "\u001b[0;31mNameError\u001b[0m: name 'lisdir' is not defined"
     ]
    }
   ],
   "source": []
  }
 ],
 "metadata": {
  "kernelspec": {
   "display_name": "Python 3 (ipykernel)",
   "language": "python",
   "name": "python3"
  },
  "language_info": {
   "codemirror_mode": {
    "name": "ipython",
    "version": 3
   },
   "file_extension": ".py",
   "mimetype": "text/x-python",
   "name": "python",
   "nbconvert_exporter": "python",
   "pygments_lexer": "ipython3",
   "version": "3.9.12"
  }
 },
 "nbformat": 4,
 "nbformat_minor": 5
}
