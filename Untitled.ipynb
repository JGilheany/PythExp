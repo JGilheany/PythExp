{
 "cells": [
  {
   "cell_type": "code",
   "execution_count": null,
   "id": "8c4e82d2",
   "metadata": {},
   "outputs": [],
   "source": [
    "y_axis = [\"A\", \"B\", \"C\", \"D\", \"E\", \"F\"]\n",
    "x_axis = [\"1\", \"2\", \"3\", \"4\", \"5\", \"6\"]\n",
    "y_counter = 0\n",
    "x_counter = 0\n",
    "current_zone = y_axis[y_counter] + x_axis[x_counter] #Starts the player in zone A1\n",
    "\n",
    "print(current_zone)\n",
    "\n",
    "\n",
    "print(\"You can move:\")\n",
    "if x_counter != 0:\n",
    "    print(\"North\",end=' ')\n",
    "else:\n",
    "    print(\"\")\n",
    "if x_counter != 5:\n",
    "    print(\"South\",end=' ')\n",
    "else:\n",
    "    print(\"\")\n",
    "\n",
    "if y_counter != 0:\n",
    "    print(\"West\",end=' ')\n",
    "else:\n",
    "    print(\"\")\n",
    "if x_counter != 5:\n",
    "    print(\"East\",end=' ')\n",
    "else:\n",
    "    print(\"\")    \n",
    "    \n",
    "\n",
    "move_input = input(\"Please enter a direction: \")\n",
    "move_input = move_input.lower()\n",
    "\n",
    "print(move_input)\n"
   ]
  },
  {
   "cell_type": "code",
   "execution_count": null,
   "id": "1c3739e1",
   "metadata": {},
   "outputs": [],
   "source": []
  },
  {
   "cell_type": "code",
   "execution_count": null,
   "id": "dbaeec65",
   "metadata": {},
   "outputs": [],
   "source": []
  }
 ],
 "metadata": {
  "kernelspec": {
   "display_name": "Python 3 (ipykernel)",
   "language": "python",
   "name": "python3"
  },
  "language_info": {
   "codemirror_mode": {
    "name": "ipython",
    "version": 3
   },
   "file_extension": ".py",
   "mimetype": "text/x-python",
   "name": "python",
   "nbconvert_exporter": "python",
   "pygments_lexer": "ipython3",
   "version": "3.9.12"
  }
 },
 "nbformat": 4,
 "nbformat_minor": 5
}
