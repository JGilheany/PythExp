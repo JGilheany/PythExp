{
 "cells": [
  {
   "cell_type": "markdown",
   "metadata": {},
   "source": [
    "### In the following assignment you will explore this locus by using biopython to access GenBank and process the resulting data acquired. In particular you'll be testing whether or not the C282Y variant is present or not in the reference human genome, determine which of HFE's exons holds the variant, and then determine which endonuclease restriction enzyme could be used to identify the presence of such a variant as part of a PCR–RFLP assay."
   ]
  },
  {
   "cell_type": "markdown",
   "metadata": {},
   "source": [
    "#### 1. Download the SeqRecord for this accession."
   ]
  },
  {
   "cell_type": "code",
   "execution_count": 1,
   "metadata": {},
   "outputs": [],
   "source": [
    "# load up our libraries\n",
    "from Bio import SeqIO\n",
    "from Bio import Entrez\n",
    "\n",
    "Entrez.email = 'appropriate.address@provider.com' # replace with appropriate email address"
   ]
  },
  {
   "cell_type": "code",
   "execution_count": 2,
   "metadata": {},
   "outputs": [],
   "source": [
    "handle = Entrez.efetch(db=\"nucleotide\", rettype='gb', retmode='text', id='NG_008720')"
   ]
  },
  {
   "cell_type": "code",
   "execution_count": 3,
   "metadata": {},
   "outputs": [],
   "source": [
    "# option1 - dump to file system\n",
    "\n",
    "with open('NG_008720.gb','w') as outfile:\n",
    "    outfile.write(handle.read())   "
   ]
  },
  {
   "cell_type": "code",
   "execution_count": 4,
   "metadata": {},
   "outputs": [
    {
     "name": "stdout",
     "output_type": "stream",
     "text": [
      "-rw-rw-r-- 1 josh josh 32045 Nov 14 11:24 NG_008720.gb\n"
     ]
    }
   ],
   "source": [
    "%%bash\n",
    "ls -ltr NG_008720.gb"
   ]
  },
  {
   "cell_type": "code",
   "execution_count": 5,
   "metadata": {},
   "outputs": [
    {
     "name": "stdout",
     "output_type": "stream",
     "text": [
      "LOCUS       NG_008720              18063 bp    DNA     linear   PRI 28-AUG-2022\n",
      "DEFINITION  Homo sapiens homeostatic iron regulator (HFE), RefSeqGene (LRG_748)\n",
      "            on chromosome 6.\n",
      "ACCESSION   NG_008720\n",
      "VERSION     NG_008720.2\n",
      "KEYWORDS    RefSeq; RefSeqGene.\n",
      "SOURCE      Homo sapiens (human)\n",
      "  ORGANISM  Homo sapiens\n",
      "            Eukaryota; Metazoa; Chordata; Craniata; Vertebrata; Euteleostomi;\n",
      "            Mammalia; Eutheria; Euarchontoglires; Primates; Haplorrhini;\n"
     ]
    }
   ],
   "source": [
    "%%bash\n",
    "head -10 NG_008720.gb"
   ]
  },
  {
   "cell_type": "markdown",
   "metadata": {},
   "source": [
    "#### 2. Extract the coding sequence (CDS) for the HFE gene from the GenBank record (that is the concantenated exon sequences that are provided in the GenBank record ."
   ]
  },
  {
   "cell_type": "code",
   "execution_count": 6,
   "metadata": {},
   "outputs": [],
   "source": [
    "# option 2, parse in real time\n",
    "\n",
    "handle = Entrez.efetch(db=\"nucleotide\", rettype='gb', retmode='text', id='NG_008720')\n",
    "\n",
    "for rec in SeqIO.parse(handle,'genbank'):\n",
    "    if rec.features:\n",
    "        for feature in rec.features:\n",
    "            if feature.type == \"CDS\":\n",
    "                coding_seq = feature.location.extract(rec).seq\n",
    "                protein_seq = feature.qualifiers[\"translation\"]"
   ]
  },
  {
   "cell_type": "markdown",
   "metadata": {},
   "source": [
    "#### 3. Use the .translate() method to create the amino acid sequence from your determined full sequence and compare your estimate with the amino acid sequence available in the GenBank record. Demonstrate they agree!"
   ]
  },
  {
   "cell_type": "code",
   "execution_count": 7,
   "metadata": {},
   "outputs": [
    {
     "name": "stdout",
     "output_type": "stream",
     "text": [
      "['MGPRARPALLLLMLLQTAVLQGRLLRSHSLHYLFMGASEQDLGLSLFEALGYVDDQLFVFYDHESRRVEPRTPWVSSRISSQMWLQLSQSLKGWDHMFTVDFWTIMENHNHSKESHTLQVILGCEMQEDNSTEGYWKYGYDGQDHLEFCPDTLDWRAAEPRAWPTKLEWERHKIRARQNRAYLERDCPAQLQQLLELGRGVLDQQVPPLVKVTHHVTSSVTTLRCRALNYYPQNITMKWLKDKQPMDAKEFEPKDVLPNGDGTYQGWITLAVPPGEEQRYTCQVEHPGLDQPLIVIWEPSPSGTLVIGVISGIAVFVVILFIGILFIILRKRQGSRGAMGHYVLAERE']\n"
     ]
    }
   ],
   "source": [
    "print(protein_seq)"
   ]
  },
  {
   "cell_type": "code",
   "execution_count": 8,
   "metadata": {},
   "outputs": [
    {
     "name": "stdout",
     "output_type": "stream",
     "text": [
      "MGPRARPALLLLMLLQTAVLQGRLLRSHSLHYLFMGASEQDLGLSLFEALGYVDDQLFVFYDHESRRVEPRTPWVSSRISSQMWLQLSQSLKGWDHMFTVDFWTIMENHNHSKESHTLQVILGCEMQEDNSTEGYWKYGYDGQDHLEFCPDTLDWRAAEPRAWPTKLEWERHKIRARQNRAYLERDCPAQLQQLLELGRGVLDQQVPPLVKVTHHVTSSVTTLRCRALNYYPQNITMKWLKDKQPMDAKEFEPKDVLPNGDGTYQGWITLAVPPGEEQRYTCQVEHPGLDQPLIVIWEPSPSGTLVIGVISGIAVFVVILFIGILFIILRKRQGSRGAMGHYVLAERE\n"
     ]
    }
   ],
   "source": [
    "print(protein_seq[0])"
   ]
  },
  {
   "cell_type": "code",
   "execution_count": 9,
   "metadata": {},
   "outputs": [
    {
     "name": "stdout",
     "output_type": "stream",
     "text": [
      "ATGGGCCCGCGAGCCAGGCCGGCGCTTCTCCTCCTGATGCTTTTGCAGACCGCGGTCCTGCAGGGGCGCTTGCTGCGTTCACACTCTCTGCACTACCTCTTCATGGGTGCCTCAGAGCAGGACCTTGGTCTTTCCTTGTTTGAAGCTTTGGGCTACGTGGATGACCAGCTGTTCGTGTTCTATGATCATGAGAGTCGCCGTGTGGAGCCCCGAACTCCATGGGTTTCCAGTAGAATTTCAAGCCAGATGTGGCTGCAGCTGAGTCAGAGTCTGAAAGGGTGGGATCACATGTTCACTGTTGACTTCTGGACTATTATGGAAAATCACAACCACAGCAAGGAGTCCCACACCCTGCAGGTCATCCTGGGCTGTGAAATGCAAGAAGACAACAGTACCGAGGGCTACTGGAAGTACGGGTATGATGGGCAGGACCACCTTGAATTCTGCCCTGACACACTGGATTGGAGAGCAGCAGAACCCAGGGCCTGGCCCACCAAGCTGGAGTGGGAAAGGCACAAGATTCGGGCCAGGCAGAACAGGGCCTACCTGGAGAGGGACTGCCCTGCACAGCTGCAGCAGTTGCTGGAGCTGGGGAGAGGTGTTTTGGACCAACAAGTGCCTCCTTTGGTGAAGGTGACACATCATGTGACCTCTTCAGTGACCACTCTACGGTGTCGGGCCTTGAACTACTACCCCCAGAACATCACCATGAAGTGGCTGAAGGATAAGCAGCCAATGGATGCCAAGGAGTTCGAACCTAAAGACGTATTGCCCAATGGGGATGGGACCTACCAGGGCTGGATAACCTTGGCTGTACCCCCTGGGGAAGAGCAGAGATATACGTGCCAGGTGGAGCACCCAGGCCTGGATCAGCCCCTCATTGTGATCTGGGAGCCCTCACCGTCTGGCACCCTAGTCATTGGAGTCATCAGTGGAATTGCTGTTTTTGTCGTCATCTTGTTCATTGGAATTTTGTTCATAATATTAAGGAAGAGGCAGGGTTCAAGAGGAGCCATGGGGCACTACGTCTTAGCTGAACGTGAGTGA\n"
     ]
    }
   ],
   "source": [
    "print(coding_seq)"
   ]
  },
  {
   "cell_type": "code",
   "execution_count": 10,
   "metadata": {},
   "outputs": [],
   "source": [
    "translated_seq = coding_seq.translate()"
   ]
  },
  {
   "cell_type": "code",
   "execution_count": 11,
   "metadata": {},
   "outputs": [
    {
     "name": "stdout",
     "output_type": "stream",
     "text": [
      "MGPRARPALLLLMLLQTAVLQGRLLRSHSLHYLFMGASEQDLGLSLFEALGYVDDQLFVFYDHESRRVEPRTPWVSSRISSQMWLQLSQSLKGWDHMFTVDFWTIMENHNHSKESHTLQVILGCEMQEDNSTEGYWKYGYDGQDHLEFCPDTLDWRAAEPRAWPTKLEWERHKIRARQNRAYLERDCPAQLQQLLELGRGVLDQQVPPLVKVTHHVTSSVTTLRCRALNYYPQNITMKWLKDKQPMDAKEFEPKDVLPNGDGTYQGWITLAVPPGEEQRYTCQVEHPGLDQPLIVIWEPSPSGTLVIGVISGIAVFVVILFIGILFIILRKRQGSRGAMGHYVLAERE*\n"
     ]
    }
   ],
   "source": [
    "print(translated_seq)"
   ]
  },
  {
   "cell_type": "code",
   "execution_count": 12,
   "metadata": {},
   "outputs": [
    {
     "name": "stdout",
     "output_type": "stream",
     "text": [
      "MGPRARPALLLLMLLQTAVLQGRLLRSHSLHYLFMGASEQDLGLSLFEALGYVDDQLFVFYDHESRRVEPRTPWVSSRISSQMWLQLSQSLKGWDHMFTVDFWTIMENHNHSKESHTLQVILGCEMQEDNSTEGYWKYGYDGQDHLEFCPDTLDWRAAEPRAWPTKLEWERHKIRARQNRAYLERDCPAQLQQLLELGRGVLDQQVPPLVKVTHHVTSSVTTLRCRALNYYPQNITMKWLKDKQPMDAKEFEPKDVLPNGDGTYQGWITLAVPPGEEQRYTCQVEHPGLDQPLIVIWEPSPSGTLVIGVISGIAVFVVILFIGILFIILRKRQGSRGAMGHYVLAERE\n"
     ]
    }
   ],
   "source": [
    "print(translated_seq[:-1])"
   ]
  },
  {
   "cell_type": "code",
   "execution_count": 13,
   "metadata": {},
   "outputs": [
    {
     "name": "stdout",
     "output_type": "stream",
     "text": [
      "identical\n"
     ]
    }
   ],
   "source": [
    "if protein_seq[0] == translated_seq[:-1]:\n",
    "    print('identical')\n",
    "else:\n",
    "    print(\"not identical\")"
   ]
  },
  {
   "cell_type": "markdown",
   "metadata": {},
   "source": [
    "#### 4. Use this coding sequence to determine what the status is of this locus in this reference gene record for HFE (i.e. what is the nucleotide value at position 845 in HFE's coding sequence)."
   ]
  },
  {
   "cell_type": "code",
   "execution_count": 14,
   "metadata": {},
   "outputs": [
    {
     "name": "stdout",
     "output_type": "stream",
     "text": [
      "--|--\n",
      "GTGCC\n",
      "--|--\n",
      "wild type\n"
     ]
    }
   ],
   "source": [
    "# locus is at 845\n",
    "\n",
    "print('--|--')\n",
    "print(coding_seq[844-2:844+3])\n",
    "print('--|--')\n",
    "\n",
    "if coding_seq[844] == 'G':\n",
    "    print('wild type')\n",
    "else:\n",
    "    print('phenotype')"
   ]
  },
  {
   "cell_type": "markdown",
   "metadata": {},
   "source": [
    "#### 5. Determine which of the exons associated with the HFE gene contains the C282Y locus (i.e. is the first, second?)."
   ]
  },
  {
   "cell_type": "code",
   "execution_count": 15,
   "metadata": {},
   "outputs": [
    {
     "name": "stdout",
     "output_type": "stream",
     "text": [
      "Locus occurs in exon 4.\n"
     ]
    }
   ],
   "source": [
    "# (1) exons may contain regulatory information not included in the CDS;\n",
    "# (2) the CDS not begin in the first exon;\n",
    "# (3) to account for this, the following code keeps track of two counts:\n",
    "#   (3.1) total exon count,\n",
    "#   (3.2) total base count from the start of the CDS\n",
    "\n",
    "handle = Entrez.efetch(db=\"nucleotide\", rettype='gb', retmode='text', id='NG_008720')\n",
    "\n",
    "for rec in SeqIO.parse(handle,'genbank'):\n",
    "    if rec.features:\n",
    "        for feature in rec.features:\n",
    "            if feature.type == \"CDS\":\n",
    "                cds_start = feature.location.start # start of CDS\n",
    "\n",
    "handle = Entrez.efetch(db=\"nucleotide\", rettype='gb', retmode='text', id='NG_008720')\n",
    "\n",
    "for rec in SeqIO.parse(handle,'genbank'):\n",
    "    if rec.features:\n",
    "        exon_count = 0 # keep track of exons\n",
    "        total_length = 0 # keep track of bases from start of CDS\n",
    "        for feature in rec.features:\n",
    "            if feature.type == \"exon\":\n",
    "                if cds_start < feature.location.end:\n",
    "                    if cds_start > feature.location.start: # if the CDS occurs within the current exon\n",
    "                        total_length += feature.location.end - cds_start # add length from start of CDS onwards\n",
    "                    else:\n",
    "                        total_length += feature.location.end - feature.location.start\n",
    "                exon_count += 1\n",
    "            if total_length >= 845:\n",
    "                break\n",
    "\n",
    "print(\"Locus occurs in exon \", exon_count, \".\", sep=\"\")"
   ]
  },
  {
   "cell_type": "markdown",
   "metadata": {},
   "source": [
    "#### 6. Using the CDS sequence you have extracted from the GenBank record, create two (amplicon) sequences of length 100 bases centered on the C282Y nucleotide location, with one having the 'G' variant and the other the disease 'A' variant. For this final question you are to take both 'amplicon' sequences and to determine if any of the following restriction enzymes would be suitable for such a test (where the '/' character corresponds to where the cleaving occurs in the DNA:\n",
    "\n",
    "  -  HinfI (G/ANTC)\n",
    "\n",
    "  -  RsaI (GT/AC)\n",
    "\n",
    "  -  EcoRI (G/AATTC) "
   ]
  },
  {
   "cell_type": "code",
   "execution_count": 16,
   "metadata": {
    "scrolled": true
   },
   "outputs": [
    {
     "name": "stdout",
     "output_type": "stream",
     "text": [
      "GGGCTGGATAACCTTGGCTGTACCCCCTGGGGAAGAGCAGAGATATACGTGCCAGGTGGAGCACCCAGGCCTGGATCAGCCCCTCATTGTGATCTGGGAG\n"
     ]
    }
   ],
   "source": [
    "print(coding_seq[844-50:844+50])"
   ]
  },
  {
   "cell_type": "code",
   "execution_count": 17,
   "metadata": {},
   "outputs": [],
   "source": [
    "seq_wt = coding_seq[844-50:844+50]\n",
    "seq_ph = coding_seq[844-50:844] + 'A' + coding_seq[845:845+49]"
   ]
  },
  {
   "cell_type": "code",
   "execution_count": 18,
   "metadata": {},
   "outputs": [
    {
     "name": "stdout",
     "output_type": "stream",
     "text": [
      "GGGCTGGATAACCTTGGCTGTACCCCCTGGGGAAGAGCAGAGATATACGTGCCAGGTGGAGCACCCAGGCCTGGATCAGCCCCTCATTGTGATCTGGGAG\n",
      "--------------------------------------------------|-------------------------------------------------\n",
      "GGGCTGGATAACCTTGGCTGTACCCCCTGGGGAAGAGCAGAGATATACGTACCAGGTGGAGCACCCAGGCCTGGATCAGCCCCTCATTGTGATCTGGGAG\n"
     ]
    }
   ],
   "source": [
    "print(seq_wt)\n",
    "print(\"-\"*50+\"|\"+\"-\"*49)\n",
    "print(seq_ph)"
   ]
  },
  {
   "cell_type": "code",
   "execution_count": 19,
   "metadata": {},
   "outputs": [],
   "source": [
    "from Bio.Restriction import *"
   ]
  },
  {
   "cell_type": "code",
   "execution_count": 20,
   "metadata": {},
   "outputs": [
    {
     "name": "stdout",
     "output_type": "stream",
     "text": [
      "RSaI + wt [22]\n",
      "RSaI + ph [22, 51]\n"
     ]
    }
   ],
   "source": [
    "print ('RSaI + wt',RsaI.search(seq_wt))\n",
    "print ('RSaI + ph',RsaI.search(seq_ph))"
   ]
  },
  {
   "cell_type": "code",
   "execution_count": 21,
   "metadata": {},
   "outputs": [
    {
     "name": "stdout",
     "output_type": "stream",
     "text": [
      "HinfI + wt []\n",
      "HinfI + ph []\n"
     ]
    }
   ],
   "source": [
    "print ('HinfI + wt',HinfI.search(seq_wt))\n",
    "print ('HinfI + ph',HinfI.search(seq_ph))"
   ]
  },
  {
   "cell_type": "code",
   "execution_count": 22,
   "metadata": {},
   "outputs": [
    {
     "name": "stdout",
     "output_type": "stream",
     "text": [
      "EcoRI + wt []\n",
      "EcoRI + ph []\n"
     ]
    }
   ],
   "source": [
    "print ('EcoRI + wt',EcoRI.search(seq_wt))\n",
    "print ('EcoRI + ph',EcoRI.search(seq_ph))"
   ]
  },
  {
   "cell_type": "code",
   "execution_count": 23,
   "metadata": {},
   "outputs": [
    {
     "name": "stdout",
     "output_type": "stream",
     "text": [
      "RsaI cleavage 1 site (GT/AC)\n",
      "CTGTACCC WT\n",
      "CTGTACCC PH\n",
      "**--^-**\n"
     ]
    }
   ],
   "source": [
    "print('RsaI cleavage 1 site (GT/AC)')\n",
    "print(seq_wt[22-5:22+3], 'WT')\n",
    "print(seq_ph[22-5:22+3], 'PH')\n",
    "print(2*'*'+2*'-'+'^'+1*'-'+'*'*2)"
   ]
  },
  {
   "cell_type": "code",
   "execution_count": 24,
   "metadata": {},
   "outputs": [
    {
     "name": "stdout",
     "output_type": "stream",
     "text": [
      "RsaI cleavage 2 site (GT/AC)\n",
      "ACGTGCCA WT\n",
      "ACGTACCA PH\n",
      "**--^-**\n"
     ]
    }
   ],
   "source": [
    "print('RsaI cleavage 2 site (GT/AC)')\n",
    "print(seq_wt[51-5:51+3], 'WT')\n",
    "print(seq_ph[51-5:51+3], 'PH')\n",
    "print(2*'*'+2*'-'+'^'+1*'-'+'*'*2)"
   ]
  },
  {
   "cell_type": "code",
   "execution_count": null,
   "metadata": {},
   "outputs": [],
   "source": []
  }
 ],
 "metadata": {
  "kernelspec": {
   "display_name": "Python 3 (ipykernel)",
   "language": "python",
   "name": "python3"
  },
  "language_info": {
   "codemirror_mode": {
    "name": "ipython",
    "version": 3
   },
   "file_extension": ".py",
   "mimetype": "text/x-python",
   "name": "python",
   "nbconvert_exporter": "python",
   "pygments_lexer": "ipython3",
   "version": "3.9.12"
  }
 },
 "nbformat": 4,
 "nbformat_minor": 2
}
