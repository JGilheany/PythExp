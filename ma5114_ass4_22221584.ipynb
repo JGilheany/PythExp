{
 "cells": [
  {
   "cell_type": "markdown",
   "id": "a3bc65d2",
   "metadata": {},
   "source": [
    "### Assignment 4\n",
    "Josh Gilheany 22221584\n"
   ]
  },
  {
   "cell_type": "markdown",
   "id": "f41552ef",
   "metadata": {},
   "source": [
    "First, I accessed the NCBI page for the HFE gene through python."
   ]
  },
  {
   "cell_type": "code",
   "execution_count": 8,
   "id": "12f0f602",
   "metadata": {},
   "outputs": [
    {
     "data": {
      "text/html": [
       "<iframe src=http://www.ncbi.nlm.nih.gov/nuccore/NG_008720.2 width=1000 height=350></iframe>"
      ],
      "text/plain": [
       "<IPython.core.display.HTML object>"
      ]
     },
     "execution_count": 8,
     "metadata": {},
     "output_type": "execute_result"
    }
   ],
   "source": [
    "from IPython.display import HTML\n",
    "HTML('<iframe src=http://www.ncbi.nlm.nih.gov/nuccore/NG_008720.2 width=1000 height=350></iframe>')"
   ]
  },
  {
   "cell_type": "markdown",
   "id": "0704a8f7",
   "metadata": {},
   "source": [
    "***\n",
    "\n",
    "Then I used entrez to pull down the data for the HFE gene, double-checking that it was a seqrecord object."
   ]
  },
  {
   "cell_type": "code",
   "execution_count": 11,
   "id": "99e7b8aa",
   "metadata": {},
   "outputs": [
    {
     "name": "stdout",
     "output_type": "stream",
     "text": [
      "<class 'Bio.SeqRecord.SeqRecord'>\n"
     ]
    }
   ],
   "source": [
    "from Bio import Entrez\n",
    "from Bio import SeqIO\n",
    "\n",
    "try:\n",
    "    Entrez.email = \"John.Genomic@example.com\"   #Note: John Genomic is not a real person, he is a fabrication\n",
    "    handle = Entrez.efetch(db=\"nucleotide\", rettype=\"gb\", retmode=\"text\", id=\"NG_008720.2\")\n",
    "    hfe = SeqIO.read(handle, \"gb\")\n",
    "    handle.close()\n",
    "    print(type(hfe))\n",
    "except:\n",
    "    print('Failed to fetch record. :[')\n",
    "    \n",
    "#we have HFE from genbank, now the ~fun~ begins"
   ]
  },
  {
   "cell_type": "code",
   "execution_count": 1,
   "id": "a450f7ff",
   "metadata": {},
   "outputs": [
    {
     "name": "stdout",
     "output_type": "stream",
     "text": [
      "['MGPRARPALLLLMLLQTAVLQGRLLRSHSLHYLFMGASEQDLGLSLFEALGYVDDQLFVFYDHESRRVEPRTPWVSSRISSQMWLQLSQSLKGWDHMFTVDFWTIMENHNHSKESHTLQVILGCEMQEDNSTEGYWKYGYDGQDHLEFCPDTLDWRAAEPRAWPTKLEWERHKIRARQNRAYLERDCPAQLQQLLELGRGVLDQQVPPLVKVTHHVTSSVTTLRCRALNYYPQNITMKWLKDKQPMDAKEFEPKDVLPNGDGTYQGWITLAVPPGEEQRYTCQVEHPGLDQPLIVIWEPSPSGTLVIGVISGIAVFVVILFIGILFIILRKRQGSRGAMGHYVLAERE']\n"
     ]
    }
   ],
   "source": [
    "# load up our libraries\n",
    "from Bio import SeqIO\n",
    "from Bio import Entrez\n",
    "\n",
    "Entrez.email = 'appropriate.address@provider.com' # replace with appropriate email address\n",
    "handle = Entrez.efetch(db=\"nucleotide\", rettype='gb', retmode='text', id='NG_008720')\n",
    "with open('NG_008720.gb','w') as outfile:\n",
    "    outfile.write(handle.read())   \n",
    "    \n",
    "handle = Entrez.efetch(db=\"nucleotide\", rettype='gb', retmode='text', id='NG_008720')\n",
    "\n",
    "for rec in SeqIO.parse(handle,'genbank'):\n",
    "    if rec.features:\n",
    "        for feature in rec.features:\n",
    "            if feature.type == \"CDS\":\n",
    "                coding_seq = feature.location.extract(rec).seq\n",
    "                protein_seq = feature.qualifiers[\"translation\"]\n",
    "                pass\n",
    "\n",
    "print(protein_seq)"
   ]
  },
  {
   "cell_type": "code",
   "execution_count": 2,
   "id": "3c3ea93f",
   "metadata": {},
   "outputs": [
    {
     "name": "stdout",
     "output_type": "stream",
     "text": [
      "ATGGGCCCGCGAGCCAGGCCGGCGCTTCTCCTCCTGATGCTTTTGCAGACCGCGGTCCTGCAGGGGCGCTTGCTGCGTTCACACTCTCTGCACTACCTCTTCATGGGTGCCTCAGAGCAGGACCTTGGTCTTTCCTTGTTTGAAGCTTTGGGCTACGTGGATGACCAGCTGTTCGTGTTCTATGATCATGAGAGTCGCCGTGTGGAGCCCCGAACTCCATGGGTTTCCAGTAGAATTTCAAGCCAGATGTGGCTGCAGCTGAGTCAGAGTCTGAAAGGGTGGGATCACATGTTCACTGTTGACTTCTGGACTATTATGGAAAATCACAACCACAGCAAGGAGTCCCACACCCTGCAGGTCATCCTGGGCTGTGAAATGCAAGAAGACAACAGTACCGAGGGCTACTGGAAGTACGGGTATGATGGGCAGGACCACCTTGAATTCTGCCCTGACACACTGGATTGGAGAGCAGCAGAACCCAGGGCCTGGCCCACCAAGCTGGAGTGGGAAAGGCACAAGATTCGGGCCAGGCAGAACAGGGCCTACCTGGAGAGGGACTGCCCTGCACAGCTGCAGCAGTTGCTGGAGCTGGGGAGAGGTGTTTTGGACCAACAAGTGCCTCCTTTGGTGAAGGTGACACATCATGTGACCTCTTCAGTGACCACTCTACGGTGTCGGGCCTTGAACTACTACCCCCAGAACATCACCATGAAGTGGCTGAAGGATAAGCAGCCAATGGATGCCAAGGAGTTCGAACCTAAAGACGTATTGCCCAATGGGGATGGGACCTACCAGGGCTGGATAACCTTGGCTGTACCCCCTGGGGAAGAGCAGAGATATACGTGCCAGGTGGAGCACCCAGGCCTGGATCAGCCCCTCATTGTGATCTGGGAGCCCTCACCGTCTGGCACCCTAGTCATTGGAGTCATCAGTGGAATTGCTGTTTTTGTCGTCATCTTGTTCATTGGAATTTTGTTCATAATATTAAGGAAGAGGCAGGGTTCAAGAGGAGCCATGGGGCACTACGTCTTAGCTGAACGTGAGTGA\n"
     ]
    }
   ],
   "source": [
    "print(coding_seq)"
   ]
  },
  {
   "cell_type": "markdown",
   "id": "f622aea0",
   "metadata": {},
   "source": [
    "***\n",
    "\n",
    "From there I was able to convert the CDS regions of the object into a string of coding sequence by taking advantage of the ability to manipulate features of seqrecord objects, extracting the matching sequence into string called *seqstr* which would be used later.\n",
    "\n",
    "I also got the length of the cds for verification purposes, and printed out the actual start/stop regions in the code, for later use."
   ]
  },
  {
   "cell_type": "code",
   "execution_count": 205,
   "id": "37fb80a1",
   "metadata": {},
   "outputs": [
    {
     "name": "stdout",
     "output_type": "stream",
     "text": [
      "1047\n",
      "join{[5160:5236](+), [8560:8824](+), [9033:9309](+), [10404:10680](+), [10838:10952](+), [11905:11946](+)}\n"
     ]
    }
   ],
   "source": [
    "from Bio import SeqIO\n",
    "\n",
    "gene_sequence = []\n",
    "for i in hfe.features:\n",
    "    if i.type == 'CDS':\n",
    "        gene_sequence.append(i.extract(hfe.seq))\n",
    "    else:\n",
    "        None\n",
    "\n",
    "seqstr = gene_sequence[0]\n",
    "print(len(seqstr))\n",
    "\n",
    "cdsloc = []\n",
    "for feature in hfe.features:\n",
    "    if feature.type == \"CDS\":\n",
    "        print(feature.location)\n",
    "        cdsloc.append(feature.location)\n"
   ]
  },
  {
   "cell_type": "markdown",
   "id": "7cc89c2a",
   "metadata": {},
   "source": [
    "*** \n",
    "Experimentation with pulling out the actual exon regions by their nucleotide number, I wasn't able to crack this before the end of the class."
   ]
  },
  {
   "cell_type": "code",
   "execution_count": 206,
   "id": "76175889",
   "metadata": {},
   "outputs": [
    {
     "name": "stdout",
     "output_type": "stream",
     "text": [
      "[]\n"
     ]
    }
   ],
   "source": [
    "\n",
    "exonscds = []\n",
    "for i in hfe.features:\n",
    "    if i.type == 'exon':\n",
    "        exonscds.append(i.extract(hfe.seq))\n",
    "    \n",
    "        \n",
    "print(exonscds)"
   ]
  },
  {
   "cell_type": "markdown",
   "id": "179fb50f",
   "metadata": {},
   "source": [
    "***\n",
    "\n",
    "I created a dictionary of the CDS regions by their nucleotide numbers for verification purposes, checking that the length matched what I pulled out earlier."
   ]
  },
  {
   "cell_type": "code",
   "execution_count": 149,
   "id": "fed217ac",
   "metadata": {},
   "outputs": [
    {
     "name": "stdout",
     "output_type": "stream",
     "text": [
      "1047\n",
      "1047\n"
     ]
    }
   ],
   "source": [
    "sequence = hfe.seq\n",
    "cdslocs = {5160:5236, 8560:8824, 9033:9309, 10404:10680, 10838:10952, 11905:11946}\n",
    "#hardcoded cds locations from previous part\n",
    "\n",
    "coding = \"\"\n",
    "for key in cdslocs:\n",
    "    coding += sequence[key:cdslocs[key]] #extracts coding sequence\n",
    "\n",
    "locsum = 0\n",
    "for key in cdslocs:\n",
    "    locsum += (cdslocs[key] - key)\n",
    "\n",
    "print(locsum) #verify same length\n",
    "print(len(coding))\n",
    "\n",
    "#double checks that the sequence is the same as what we pulled from above"
   ]
  },
  {
   "cell_type": "markdown",
   "id": "011a1786",
   "metadata": {},
   "source": [
    "***\n",
    "Similarly, I did not manage to crack pulling down the translated sequence from the data we had at the time and so I resorted to just comparing the translated sequence from a version I copied from the website. \n",
    "\n",
    "Apologies for the lack of slickness."
   ]
  },
  {
   "cell_type": "code",
   "execution_count": 199,
   "id": "f6c0b213",
   "metadata": {},
   "outputs": [
    {
     "name": "stdout",
     "output_type": "stream",
     "text": [
      "Translated into amino acids:\n",
      "MGPRARPALLLLMLLQTAVLQGRLLRSHSLHYLFMGASEQDLGLSLFEALGYVDDQLFVFYDHESRRVEPRTPWVSSRISSQMWLQLSQSLKGWDHMFTVDFWTIMENHNHSKESHTLQVILGCEMQEDNSTEGYWKYGYDGQDHLEFCPDTLDWRAAEPRAWPTKLEWERHKIRARQNRAYLERDCPAQLQQLLELGRGVLDQQVPPLVKVTHHVTSSVTTLRCRALNYYPQNITMKWLKDKQPMDAKEFEPKDVLPNGDGTYQGWITLAVPPGEEQRYTCQVEHPGLDQPLIVIWEPSPSGTLVIGVISGIAVFVVILFIGILFIILRKRQGSRGAMGHYVLAERE\n"
     ]
    },
    {
     "data": {
      "text/plain": [
       "True"
      ]
     },
     "execution_count": 199,
     "metadata": {},
     "output_type": "execute_result"
    }
   ],
   "source": [
    "coding = seqstr\n",
    "\n",
    "protein_sequence = coding.translate(table=11, cds=True)\n",
    "print(\"Translated into amino acids:\")\n",
    "print(protein_sequence)\n",
    "\n",
    "\n",
    "\n",
    "ncbitranslation=\"MGPRARPALLLLMLLQTAVLQGRLLRSHSLHYLFMGASEQDLGLSLFEALGYVDDQLFVFYDHESRRVEPRTPWVSSRISSQMWLQLSQSLKGWDHMFTVDFWTIMENHNHSKESHTLQVILGCEMQEDNSTEGYWKYGYDGQDHLEFCPDTLDWRAAEPRAWPTKLEWERHKIRARQNRAYLERDCPAQLQQLLELGRGVLDQQVPPLVKVTHHVTSSVTTLRCRALNYYPQNITMKWLKDKQPMDAKEFEPKDVLPNGDGTYQGWITLAVPPGEEQRYTCQVEHPGLDQPLIVIWEPSPSGTLVIGVISGIAVFVVILFIGILFIILRKRQGSRGAMGHYVLAERE\"\n",
    "#from website\n",
    "\n",
    "protein_sequence == ncbitranslation\n",
    "#They agree\n"
   ]
  },
  {
   "cell_type": "markdown",
   "id": "7cc8f068",
   "metadata": {},
   "source": [
    "***\n",
    "I sliced the code at the region indicated to show if the SNP was present. It was not."
   ]
  },
  {
   "cell_type": "code",
   "execution_count": 200,
   "id": "dd464963",
   "metadata": {},
   "outputs": [
    {
     "name": "stdout",
     "output_type": "stream",
     "text": [
      "At position 845 the reference genome has a G nucleotide\n"
     ]
    }
   ],
   "source": [
    "#4\n",
    "\n",
    "print(f\"At position 845 the reference genome has a {coding[844:845]} nucleotide\")\n",
    "\n"
   ]
  },
  {
   "cell_type": "markdown",
   "id": "804cb9f3",
   "metadata": {},
   "source": [
    "***\n",
    "I used a modified version of code from earlier to see what exon the SNP would be located at."
   ]
  },
  {
   "cell_type": "code",
   "execution_count": 202,
   "id": "1e916081",
   "metadata": {},
   "outputs": [
    {
     "name": "stdout",
     "output_type": "stream",
     "text": [
      "Locus found in exon 4\n"
     ]
    }
   ],
   "source": [
    "#5\n",
    "locsum = 0\n",
    "counter = 0\n",
    "for key in cdslocs:\n",
    "    if locsum < 845:\n",
    "        locsum += (cdslocs[key] - key)\n",
    "        counter += 1\n",
    "    else:\n",
    "        pass\n",
    "print(f\"Locus found in exon {counter}\")\n",
    "    \n",
    "\n",
    "#Position 845 is on the 4th exon near the end\n"
   ]
  },
  {
   "cell_type": "markdown",
   "id": "39f054f8",
   "metadata": {},
   "source": [
    "***\n",
    "\n",
    "Only RsaI demonstrated any activity on the given sequence. It would cut twice on mutated, hemochromatosis genome and once on the reference genome. In terms of an assay, DNA from a positive result would be in smaller sizes than that from a person whose test came back negative, allowing it to be used as a diagnostic tool."
   ]
  },
  {
   "cell_type": "code",
   "execution_count": 208,
   "id": "fb915d24",
   "metadata": {},
   "outputs": [
    {
     "name": "stdout",
     "output_type": "stream",
     "text": [
      "[]\n",
      "[]\n",
      "[21]\n",
      "[21, 50]\n",
      "[]\n",
      "[]\n"
     ]
    }
   ],
   "source": [
    "#6\n",
    "\n",
    "ref100seq = coding[795:895]\n",
    "mut100seq = ref100seq[:49] + 'A' + ref100seq[50:]\n",
    "#creation of mutant and reference 100bp windows around C282Y\n",
    "\n",
    "from Bio.Restriction import HinfI, RsaI, EcoRI\n",
    "print(HinfI.search(ref100seq))\n",
    "print(HinfI.search(mut100seq))\n",
    "\n",
    "print(RsaI.search(ref100seq))\n",
    "print(RsaI.search(mut100seq))\n",
    "\n",
    "print(EcoRI.search(ref100seq))\n",
    "print(EcoRI.search(mut100seq))"
   ]
  }
 ],
 "metadata": {
  "kernelspec": {
   "display_name": "Python 3 (ipykernel)",
   "language": "python",
   "name": "python3"
  },
  "language_info": {
   "codemirror_mode": {
    "name": "ipython",
    "version": 3
   },
   "file_extension": ".py",
   "mimetype": "text/x-python",
   "name": "python",
   "nbconvert_exporter": "python",
   "pygments_lexer": "ipython3",
   "version": "3.9.12"
  }
 },
 "nbformat": 4,
 "nbformat_minor": 5
}
