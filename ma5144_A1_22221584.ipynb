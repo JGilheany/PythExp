{
 "cells": [
  {
   "cell_type": "markdown",
   "metadata": {},
   "source": [
    "### M.Sc. Biomedical Genomics / MA5114 / Autumn 2022\n",
    "\n",
    "#### Assignment 1 (10 marks)\n",
    "\n",
    "##### Instructions\n",
    "\n",
    "The following Jupyter notebook has four separate questions, and for each question there is an accompanying code cell that is partially filled - you are to complete the code necessary to yield the desired answer. \n",
    "\n",
    "##### Deadline: 19/10/22 17:00 IST\n",
    "\n",
    "Sumbit your work via Blackboard as a copy of this `ipynb` file with your answers in the following format file name: `ma5144_AX_id.ipynb` (replace X with homework number and id with your ID number). For example, the sumbission of assignment 1 for a student with ID number 201811451 is `ma5114_A1_201811451.ipynb`"
   ]
  },
  {
   "cell_type": "markdown",
   "metadata": {},
   "source": [
    "#### 1) Strawberry Trees & Mendelian Genetics (2 marks)\n",
    "\n",
    "Mr. Joyce is studying the genetics of sweetness in the berries of the Strawberry tree  (*Arbutus unedo*, also known as *Caithne* in Irish). He knows that gene $X$, controlling fructose production, follows Mendelian inheritance so that $XX$ berries are typically quite sweet, $Xx$ berries are a little sweet and $xx$ berries are basically tasteless.\n",
    "\n",
    "Write a program that, given a number of strawberry tree berries examined, will calculate and print the expected numbers of sweet, slightly sweet and tasteless berries (according to the Mendelian 1:2:1 inheritance law).\n",
    "\n",
    "*Remember that the expected number of berries is an integer!*"
   ]
  },
  {
   "cell_type": "code",
   "execution_count": 1,
   "metadata": {
    "scrolled": true
   },
   "outputs": [
    {
     "name": "stdout",
     "output_type": "stream",
     "text": [
      "Sweet:  18\n",
      "Less sweet:  36\n",
      "Tasteless:  18\n"
     ]
    }
   ],
   "source": [
    "berry_num = 73 # Replace with a value of your choice.\n",
    "\n",
    "sweet = int(berry_num/4)\n",
    "less_sweet = int(berry_num/2)\n",
    "tasteless = int(berry_num/4)\n",
    "\n",
    "print('Sweet: ',sweet)\n",
    "print('Less sweet: ',less_sweet)\n",
    "print('Tasteless: ',tasteless)"
   ]
  },
  {
   "cell_type": "markdown",
   "metadata": {},
   "source": [
    "#### 2) Determining Blood Type Compatibility (2 marks)\n",
    "\n",
    "As everyone knows, each person has a distinct blood type: 'A', 'B', 'AB' or 'O'.\n",
    "What one's blood type is plays a critical role in transfusions - these are only possible from 'like' to 'like' with the exception of blood group 'AB' who can get a transfusion from any other group, and group 'O', who can donate to all other blood group types.\n",
    "\n",
    "Write a program  that determines if two patient's blood groups are compatible. Specifically, given the two patient blood types, one a donor, the other a potential recipient, your program should print out 'True' if a donation is possible, 'False' if it isn't, and 'Invalid input' if one of the blood types is not 'A', 'B', 'AB' or 'O'. \n"
   ]
  },
  {
   "cell_type": "code",
   "execution_count": 139,
   "metadata": {},
   "outputs": [
    {
     "name": "stdout",
     "output_type": "stream",
     "text": [
      "False\n"
     ]
    }
   ],
   "source": [
    "blood_type_receiver = 'B' # Replace with a value of your choice.\n",
    "blood_type_donor = 'A' # Replace with a value of your choice.\n",
    "\n",
    "# Your code goes here\n",
    "receiver_lower = blood_type_receiver.lower()\n",
    "donor_lower = blood_type_donor.lower() #converts inputs to lowercase\n",
    "\n",
    "acceptable_types = ['a','ab','b','o']\n",
    "type_check = acceptable_types.count(receiver_lower)+acceptable_types.count(donor_lower)\n",
    "#method of verifying that only actual bloodtypes are entered\n",
    "#if one or more invalid bloodtypes are entered, type_check changes to 1 or 0\n",
    "\n",
    "if type_check <= 1:\n",
    "    print(\"Invalid blood types.\")\n",
    "    \n",
    "elif receiver_lower == donor_lower:\n",
    "    print(True)\n",
    "    \n",
    "elif donor_lower == 'o':\n",
    "    print(True)\n",
    "    \n",
    "elif receiver_lower == 'ab':\n",
    "    print(True)\n",
    "\n",
    "else:\n",
    "    print(False)\n",
    "    \n"
   ]
  },
  {
   "cell_type": "markdown",
   "metadata": {},
   "source": [
    "#### 3) Smokies Bags of Coffee Problem (3 marks)\n",
    "\n",
    "Smokies has about 10,000 students a week who go through about 40 bags of coffee beans on average. Each Friday afternoon the Smokies team need to figure out how many more bags of coffee beans they need to order, if any. Given the the number of students per week (X), the average number of bags used to give them coffee (Y), and the number of coffee bags in stock (N), write a program that makes a decision to buy or not to buy, based on the following rules:\n",
    "\n",
    "- If there are enough bags for the coming two weeks, do not order anything.\n",
    "- If there are enough bags for the coming week, but not for two weeks, order the ammount required to complete a two-week stock.\n",
    "- If there aren't enough bags of coffee for the coming week, complete a two week stock and order another week's stock for reserves.\n",
    "\n",
    "Based on this decision, print the total number of bags that should be ordered.\n",
    "\n"
   ]
  },
  {
   "cell_type": "code",
   "execution_count": 134,
   "metadata": {},
   "outputs": [
    {
     "name": "stdout",
     "output_type": "stream",
     "text": [
      "Campus requires  50000  bags per week.\n",
      "Order  20000  coffee bags\n"
     ]
    }
   ],
   "source": [
    "students = 10000 # Replace with a value of your choice.\n",
    "bags_per_student = 5 # Replace with a value of your choice.\n",
    "bags_in_stock = 70000 # Replace with a value of your choice.\n",
    "\n",
    "# your code here\n",
    "bags_required = bags_per_student*students #assuming individual students drink such ludicrous amounts of coffee\n",
    "\n",
    "if bags_in_stock >= (bags_required*2):\n",
    "    bags_to_order = \"no\"\n",
    "\n",
    "elif bags_in_stock >= bags_required and bags_in_stock <= (bags_required*2):\n",
    "    bags_to_order = bags_in_stock - bags_required\n",
    "\n",
    "elif bags_in_stock < bags_required:\n",
    "    bags_to_order = (bags_required*3)\n",
    "\n",
    "\n",
    "print('Campus requires ',bags_required,' bags per week.')\n",
    "print('Order ',bags_to_order,' coffee bags')"
   ]
  },
  {
   "cell_type": "markdown",
   "metadata": {},
   "source": [
    "#### 4) Calculating nucleotide percentage values for a sequence of DNA (3 marks)\n",
    "\n",
    "Given a DNA sequence \"AGCTCGCGTTGCGGACGGC\" write a program in Python that \n",
    "  - assigns this to a variable \n",
    "  - calculates the percentage of A, C, G and T nucleotides in the total sequence \n",
    "  - counts the number of CG dinucleotides in the sequence and \n",
    "  - changes the sub-string GACG from upper case, to lower case letters.\n",
    "\n",
    "In all cases, use print statements to indicate what step has been completed, and print the outcome."
   ]
  },
  {
   "cell_type": "code",
   "execution_count": 135,
   "metadata": {},
   "outputs": [
    {
     "name": "stdout",
     "output_type": "stream",
     "text": [
      "Percentage of A, C, G and T: 10.526315789473683 , 31.57894736842105 , 42.10526315789473 , 15.789473684210526\n",
      "Total number of CGs in sequence:  4\n",
      "Sequence before sub-string change: AGCTCGCGTTGCGGACGGC\n",
      "Sequence after sub-string change: AGCTCGCGTTGCGgacgGC\n"
     ]
    }
   ],
   "source": [
    "# your code here\n",
    "dna_seq = \"AGCTCGCGTTGCGGACGGC\"\n",
    "\n",
    "a_count = dna_seq.count(\"A\")\n",
    "c_count = dna_seq.count(\"C\")\n",
    "g_count = dna_seq.count(\"G\")\n",
    "t_count = dna_seq.count(\"T\")\n",
    "\n",
    "pc_A = (a_count/len(dna_seq))*100\n",
    "pc_C = (c_count/len(dna_seq))*100\n",
    "pc_G = (g_count/len(dna_seq))*100\n",
    "pc_T = (t_count/len(dna_seq))*100\n",
    "\n",
    "print ('Percentage of A, C, G and T:', pc_A,',', pc_C,',', pc_G,',', pc_T)\n",
    "\n",
    "\n",
    "num_CGs = dna_seq.count(\"CG\")\n",
    "print ('Total number of CGs in sequence: ', num_CGs) #count of CGs\n",
    "\n",
    "\n",
    "\n",
    "print ('Sequence before sub-string change: ' + dna_seq)\n",
    "\n",
    "dna_subseq = \"GACG\"\n",
    "subseqlower = dna_subseq.lower()\n",
    "dna_subchange = dna_seq.replace(dna_subseq, subseqlower) #replaces seq with lowercase as defined above\n",
    "\n",
    "print ('Sequence after sub-string change: ' + dna_subchange)"
   ]
  }
 ],
 "metadata": {
  "kernelspec": {
   "display_name": "Python 3 (ipykernel)",
   "language": "python",
   "name": "python3"
  },
  "language_info": {
   "codemirror_mode": {
    "name": "ipython",
    "version": 3
   },
   "file_extension": ".py",
   "mimetype": "text/x-python",
   "name": "python",
   "nbconvert_exporter": "python",
   "pygments_lexer": "ipython3",
   "version": "3.9.12"
  }
 },
 "nbformat": 4,
 "nbformat_minor": 2
}
