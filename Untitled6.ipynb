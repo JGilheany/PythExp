{
 "cells": [
  {
   "cell_type": "code",
   "execution_count": null,
   "id": "92d33bca",
   "metadata": {},
   "outputs": [
    {
     "name": "stdout",
     "output_type": "stream",
     "text": [
      "Welcome to the humble script: Please ensure you are running in the directory above your target directory\n",
      "Directories below:\n",
      "biopython_files/\n",
      "lec4_files/\n",
      "prac20_22221584/\n"
     ]
    }
   ],
   "source": [
    "#name: trim_sequences.py\n",
    "\n",
    "#author: Josh\n",
    "#date: 22/11/2022\n",
    "\n",
    "#description: Script to run trimmomatic on everything in a given folder, \n",
    "\n",
    "\n",
    "#import modules\n",
    "\n",
    "import os\n",
    "\n",
    "import subprocess\n",
    "\n",
    "\n",
    "# set up directory variables\n",
    "print(\"Welcome to the humble script: Please ensure you are running in the directory above your target directory\")\n",
    "print(\"Directories below:\")\n",
    "directorycommand = \"ls -d */\" #prints a list of dirs in working dir\n",
    "os.system(directorycommand)\n",
    "\n",
    "seq_dir =input(\"Please enter the name of the directory to trim: \")\n",
    "trim_dir = input(\"Please enter the name of the new directory: \")# create output directory\n",
    "\n",
    "\n",
    "    # get list of FASTQ files\n",
    "try:    \n",
    "    file_list = os.listdir(seq_dir)\n",
    "    print ('# got list of files in: ' + seq_dir)\n",
    "    \n",
    "    os.mkdir(trim_dir)\n",
    "    print ('# created subdir: ' + trim_dir)\n",
    "    # create the command string for each sequence\n",
    "    # & implement it \n",
    "    for seq in file_list:\n",
    "        print(seq)\n",
    "        command = 'trimmomatic '+'SE '+'-phred33 ' + seq_dir + '/' + seq +' Trimmed'+seq+ ' ILLUMINACLIP:TruSeq3-SE:2:30:10 LEADING:3 TRAILING:3 SLIDINGWINDOW:4:15 MINLEN:36'\n",
    "        print(command)\n",
    "        os.system(command)\n",
    "\n",
    "        command1 = 'mv ' + 'Trimmed'+seq + ' ' + trim_dir\n",
    "        print (command1)# mv trimmed files out of sequence directory \n",
    "        os.system(command1)\n",
    "    \n",
    "except:\n",
    "    print(\"Error, did you enter valid directories?\")\n",
    "\n",
    "\n",
    "\n",
    "\n",
    "print ('#done')   "
   ]
  },
  {
   "cell_type": "code",
   "execution_count": 18,
   "id": "b85c97dd",
   "metadata": {},
   "outputs": [
    {
     "ename": "NameError",
     "evalue": "name 'lisdir' is not defined",
     "output_type": "error",
     "traceback": [
      "\u001b[0;31m---------------------------------------------------------------------------\u001b[0m",
      "\u001b[0;31mNameError\u001b[0m                                 Traceback (most recent call last)",
      "Input \u001b[0;32mIn [18]\u001b[0m, in \u001b[0;36m<cell line: 1>\u001b[0;34m()\u001b[0m\n\u001b[0;32m----> 1\u001b[0m \u001b[43mlisdir\u001b[49m()\n",
      "\u001b[0;31mNameError\u001b[0m: name 'lisdir' is not defined"
     ]
    }
   ],
   "source": []
  }
 ],
 "metadata": {
  "kernelspec": {
   "display_name": "Python 3 (ipykernel)",
   "language": "python",
   "name": "python3"
  },
  "language_info": {
   "codemirror_mode": {
    "name": "ipython",
    "version": 3
   },
   "file_extension": ".py",
   "mimetype": "text/x-python",
   "name": "python",
   "nbconvert_exporter": "python",
   "pygments_lexer": "ipython3",
   "version": "3.9.12"
  }
 },
 "nbformat": 4,
 "nbformat_minor": 5
}
